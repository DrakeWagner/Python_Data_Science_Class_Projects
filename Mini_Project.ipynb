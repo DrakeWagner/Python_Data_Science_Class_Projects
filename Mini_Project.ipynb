{
  "nbformat": 4,
  "nbformat_minor": 0,
  "metadata": {
    "kernelspec": {
      "display_name": "Python 3",
      "language": "python",
      "name": "python3"
    },
    "language_info": {
      "codemirror_mode": {
        "name": "ipython",
        "version": 3
      },
      "file_extension": ".py",
      "mimetype": "text/x-python",
      "name": "python",
      "nbconvert_exporter": "python",
      "pygments_lexer": "ipython3",
      "version": "3.8.5"
    },
    "colab": {
      "name": "Mini_Project.ipynb",
      "provenance": [],
      "collapsed_sections": [
        "VdnWfQ79MCFF"
      ],
      "include_colab_link": true
    }
  },
  "cells": [
    {
      "cell_type": "markdown",
      "metadata": {
        "id": "view-in-github",
        "colab_type": "text"
      },
      "source": [
        "<a href=\"https://colab.research.google.com/github/DrakeWagner/Python_Data_Science_Class_Projects/blob/master/Mini_Project.ipynb\" target=\"_parent\"><img src=\"https://colab.research.google.com/assets/colab-badge.svg\" alt=\"Open In Colab\"/></a>"
      ]
    },
    {
      "cell_type": "markdown",
      "metadata": {
        "id": "DaCF-u6rMCEw"
      },
      "source": [
        "# CS 5012 Mini Project\n",
        "Benjamin Feciura / bmf3bw\n",
        "\n",
        "Drake Wagner / dbw2tn\n",
        "\n",
        "Rehan Merchant / rm2bt\n",
        "\n",
        "Our database concerns the players, teams, coaches, stadiums, and matches of Major League Soccer (MLS) in the United States. Using the information related to each of these entities, we feel we can query, compare within, and aggregate a number of interesting variables."
      ]
    },
    {
      "cell_type": "markdown",
      "metadata": {
        "id": "grsltr8cMCE9"
      },
      "source": [
        "## Creating the Database Structure\n",
        "\n",
        "### Tables:\n",
        "**team**(<u>teamID</u>, name, city)\n",
        "\n",
        "**player**(<u>name, team, number</u>, position)\n",
        "\n",
        "**coach**(<u>team</u>, name, nationality)\n",
        "\n",
        "**stadium**(<u>home_team</u>, name, city, surface_type, capacity)\n",
        "\n",
        "**match**(<u>date, home_team, away_team</u>, stadium, home_team_score, away_team_score)\n",
        "\n",
        "### Relations:\n",
        "\n",
        "**scores_goal**(<u>match.date, match.home_team, match.away_team, player.name, player.number, player.team</u>, time)\n",
        "\n",
        "**commits foul**(<u>match.date, match.home_team, match.away_team, player.name, player.number, player.team</u>, time, card)\n",
        "\n",
        "![ER Diagram](ERDiagram.png)"
      ]
    },
    {
      "cell_type": "code",
      "metadata": {
        "id": "wI4sqWcGMCE9"
      },
      "source": [
        "import sqlite3"
      ],
      "execution_count": null,
      "outputs": []
    },
    {
      "cell_type": "code",
      "metadata": {
        "id": "Zom9waSjMCE-"
      },
      "source": [
        "conn = sqlite3.connect('soccer.db')\n",
        "cursor = conn.cursor()"
      ],
      "execution_count": null,
      "outputs": []
    },
    {
      "cell_type": "code",
      "metadata": {
        "id": "OKyukx3GMCE_",
        "outputId": "5a23ad76-7b21-4d25-96d9-21aadc477835"
      },
      "source": [
        "# create team table\n",
        "cursor.execute('''create table team(\n",
        "                teamID text,\n",
        "                name text,\n",
        "                city text,\n",
        "                primary key (teamID))''')"
      ],
      "execution_count": null,
      "outputs": [
        {
          "output_type": "execute_result",
          "data": {
            "text/plain": [
              "<sqlite3.Cursor at 0x7ff60b3f2ea0>"
            ]
          },
          "metadata": {
            "tags": []
          },
          "execution_count": 3
        }
      ]
    },
    {
      "cell_type": "code",
      "metadata": {
        "id": "t-8GoJhYMCFA",
        "outputId": "c4461f1d-6d80-490a-d941-327072873d2a"
      },
      "source": [
        "# create player table\n",
        "cursor.execute('''create table player(\n",
        "                name text,\n",
        "                team text,\n",
        "                number int,\n",
        "                position text,\n",
        "                primary key (name, team, number),\n",
        "                foreign key (team) references team(teamID))''')"
      ],
      "execution_count": null,
      "outputs": [
        {
          "output_type": "execute_result",
          "data": {
            "text/plain": [
              "<sqlite3.Cursor at 0x7ff60b3f2ea0>"
            ]
          },
          "metadata": {
            "tags": []
          },
          "execution_count": 4
        }
      ]
    },
    {
      "cell_type": "code",
      "metadata": {
        "id": "csQO_-YIMCFA",
        "outputId": "03443bbb-13c2-406c-b096-c410f896e4f3"
      },
      "source": [
        "# create coach table\n",
        "cursor.execute('''create table coach(\n",
        "                name text,\n",
        "                team text,\n",
        "                nationality text,\n",
        "                primary key (team),\n",
        "                foreign key (team) references team(teamID))''')"
      ],
      "execution_count": null,
      "outputs": [
        {
          "output_type": "execute_result",
          "data": {
            "text/plain": [
              "<sqlite3.Cursor at 0x7ff60b3f2ea0>"
            ]
          },
          "metadata": {
            "tags": []
          },
          "execution_count": 5
        }
      ]
    },
    {
      "cell_type": "code",
      "metadata": {
        "id": "UMfXckvTMCFB",
        "outputId": "56dd29de-e157-4065-b1fe-c657639f881f"
      },
      "source": [
        "# create stadium table\n",
        "cursor.execute('''create table stadium(\n",
        "                name text,\n",
        "                city text,\n",
        "                home_team text,\n",
        "                surface_type text,\n",
        "                capacity int,\n",
        "                primary key (home_team),\n",
        "                foreign key (home_team) references team(teamID))''')"
      ],
      "execution_count": null,
      "outputs": [
        {
          "output_type": "execute_result",
          "data": {
            "text/plain": [
              "<sqlite3.Cursor at 0x7ff60b3f2ea0>"
            ]
          },
          "metadata": {
            "tags": []
          },
          "execution_count": 6
        }
      ]
    },
    {
      "cell_type": "code",
      "metadata": {
        "id": "tN4puqW2MCFB",
        "outputId": "f5ba23e4-3692-44e1-bbcb-7e7157c5ab5f"
      },
      "source": [
        "# create match table\n",
        "cursor.execute('''create table match(\n",
        "                home_team text,\n",
        "                away_team text,\n",
        "                date date,\n",
        "                home_team_score int,\n",
        "                away_team_score int,\n",
        "                attendance int,\n",
        "                primary key (date, home_team, away_team),\n",
        "                foreign key (home_team) references stadium(home_team),\n",
        "                foreign key (away_team) references team(teamID))''')"
      ],
      "execution_count": null,
      "outputs": [
        {
          "output_type": "execute_result",
          "data": {
            "text/plain": [
              "<sqlite3.Cursor at 0x7ff60b3f2ea0>"
            ]
          },
          "metadata": {
            "tags": []
          },
          "execution_count": 7
        }
      ]
    },
    {
      "cell_type": "code",
      "metadata": {
        "id": "oSp3os7BMCFC",
        "outputId": "07d8d518-feeb-460d-fba3-cb860c5d939b"
      },
      "source": [
        "# create commits_foul relation table\n",
        "cursor.execute('''create table commits_foul(\n",
        "                player text,\n",
        "                number int,\n",
        "                team text,\n",
        "                match_date date,\n",
        "                home_team text,\n",
        "                away_team text,\n",
        "                time int,\n",
        "                card text,\n",
        "                primary key (time, match_date, home_team, away_team),\n",
        "                foreign key (player, number, team) references player(name, number, team),\n",
        "                foreign key (match_date, home_team, away_team) references match(date, home_team, away_team))''')"
      ],
      "execution_count": null,
      "outputs": [
        {
          "output_type": "execute_result",
          "data": {
            "text/plain": [
              "<sqlite3.Cursor at 0x7ff60b3f2ea0>"
            ]
          },
          "metadata": {
            "tags": []
          },
          "execution_count": 8
        }
      ]
    },
    {
      "cell_type": "code",
      "metadata": {
        "id": "ayd43Hm8MCFC",
        "outputId": "9b4cf9cb-e62d-42f1-fd84-3d0687f3016b"
      },
      "source": [
        "# create scores_goal relation table\n",
        "cursor.execute('''create table scores_goal(\n",
        "                player text,\n",
        "                number int,\n",
        "                team text,\n",
        "                match_date date,\n",
        "                home_team text,\n",
        "                away_team text,\n",
        "                time int,\n",
        "                primary key (time, match_date, home_team, away_team),\n",
        "                foreign key (player, number, team) references player(name, number, team),\n",
        "                foreign key (match_date, home_team, away_team) references match(date, home_team, away_team))''')"
      ],
      "execution_count": null,
      "outputs": [
        {
          "output_type": "execute_result",
          "data": {
            "text/plain": [
              "<sqlite3.Cursor at 0x7ff60b3f2ea0>"
            ]
          },
          "metadata": {
            "tags": []
          },
          "execution_count": 9
        }
      ]
    },
    {
      "cell_type": "markdown",
      "metadata": {
        "id": "ira7OYAUMCFC"
      },
      "source": [
        "## Input data into database\n",
        "### Web scraping"
      ]
    },
    {
      "cell_type": "code",
      "metadata": {
        "id": "8sC3ynToMCFD"
      },
      "source": [
        "# scrape list of teams from MLS website, with links to rosters and team info\n",
        "\n",
        "import requests\n",
        "from bs4 import BeautifulSoup\n",
        "import pandas as pd\n",
        "\n",
        "clublist_url = \"https://www.mlssoccer.com/clubs/\"\n",
        "clublist = requests.get(clublist_url)\n",
        "clublist_soup = BeautifulSoup(clublist.content, 'html5lib')"
      ],
      "execution_count": null,
      "outputs": []
    },
    {
      "cell_type": "code",
      "metadata": {
        "id": "0hP9E1VHMCFD"
      },
      "source": [
        "# collect data for players in a dataframe\n",
        "\n",
        "playerdata = pd.DataFrame(columns = [\"Name\", \"Team\", \"Number\", \"Position\"])\n",
        "club_names = []\n",
        "club_ids = []\n",
        "import json\n",
        "\n",
        "for element in clublist_soup.find_all('div', {'class': 'mls-o-clubs-hub-clubs-list__club-name'}):\n",
        "    club_names.append(element.contents[1].contents[0])\n",
        "\n",
        "for element in clublist_soup.find_all('div', {'class': 'mls-o-clubs-hub-clubs-list__club-links'}):\n",
        "    roster_url = \"https://www.mlssoccer.com\" + element.contents[1].attrs['href'] + \"roster/\"\n",
        "    roster = requests.get(roster_url)\n",
        "    roster_soup = BeautifulSoup(roster.content, 'html5lib')\n",
        "    \n",
        "    for element in roster_soup.find_all('section', {'class': \"mls-l-module mls-l-module--active-roster\"}):\n",
        "        club_info = json.loads(element[\"data-options\"])\n",
        "        for player in club_info[\"playersData\"]:\n",
        "            name = player[\"fullName\"]\n",
        "            team = club_info[\"clubAbbreviation\"]\n",
        "            number = player[\"jerseyNumber\"]\n",
        "            position = player[\"position\"]\n",
        "            playerdata = playerdata.append(pd.DataFrame([[name, team, number, position]], columns = [\"Name\", \"Team\", \"Number\", \"Position\"]))\n",
        "            \n",
        "    club_ids.append(club_info[\"clubAbbreviation\"])\n",
        "        \n",
        "playerdata.reset_index(inplace=True)"
      ],
      "execution_count": null,
      "outputs": []
    },
    {
      "cell_type": "code",
      "metadata": {
        "id": "u3HYS-8OMCFD"
      },
      "source": [
        "# use dataframe to populate database\n",
        "\n",
        "for i in range(len(playerdata)):\n",
        "    if i == 510: # there is a duplicate value in this row\n",
        "        continue\n",
        "    sql = '''insert into player\n",
        "             (name, team, number, position)\n",
        "             values\n",
        "             (:name, :team, :number, :position)'''\n",
        "    cursor.execute(sql, {'name':playerdata[\"Name\"][i], 'team':playerdata[\"Team\"][i], 'number':playerdata[\"Number\"][i], 'position':playerdata[\"Position\"][i]})\n",
        "    \n",
        "    conn.commit()"
      ],
      "execution_count": null,
      "outputs": []
    },
    {
      "cell_type": "code",
      "metadata": {
        "id": "5ZSRBQ4tMCFD"
      },
      "source": [
        "# manually create list of home cities (not easily accessible on MLS website)\n",
        "\n",
        "cities = [\"Atlanta\", \"Austin\", \"Chicago\", \"Cincinnati\", \"Denver\", \"Columbus\", \"Washington\", \"Dallas\", \"Houston\", \"Kansas City\", \"Los Angeles\", \"Los Angeles\", \"Miami\", \"Saint Paul\", \"Montreal\", \"Nashville\", \"Boston\", \"New York\", \"New York\", \"Orlando\", \"Philadelphia\", \"Portland\", \"Salt Lake City\", \"San Jose\", \"Seattle\", \"Toronto\", \"Vancouver\"]"
      ],
      "execution_count": null,
      "outputs": []
    },
    {
      "cell_type": "code",
      "metadata": {
        "id": "t0HAw2YPMCFD"
      },
      "source": [
        "# create dataframe of team data using data collected during last step\n",
        "\n",
        "teamdata = pd.DataFrame()\n",
        "teamdata[\"TeamID\"] = club_ids\n",
        "teamdata[\"Name\"] = club_names\n",
        "teamdata[\"City\"] = cities"
      ],
      "execution_count": null,
      "outputs": []
    },
    {
      "cell_type": "code",
      "metadata": {
        "id": "CmDO2d7UMCFE"
      },
      "source": [
        "# use dataframe to populate database\n",
        "\n",
        "for i in range(len(teamdata)):\n",
        "    sql = '''insert into team\n",
        "             (teamID, name, city)\n",
        "             values\n",
        "             (:teamID, :name, :city)'''\n",
        "    cursor.execute(sql, {'teamID':teamdata[\"TeamID\"][i], 'name':teamdata[\"Name\"][i], 'city':teamdata[\"City\"][i]})\n",
        "    \n",
        "    conn.commit()"
      ],
      "execution_count": null,
      "outputs": []
    },
    {
      "cell_type": "code",
      "metadata": {
        "id": "d7Y1c2dyMCFE"
      },
      "source": [
        "# scrape list of stadiums from Wikipedia\n",
        "\n",
        "stadium_url = \"https://en.wikipedia.org/wiki/List_of_Major_League_Soccer_stadiums\"\n",
        "stadium = requests.get(stadium_url)\n",
        "stadium_soup = BeautifulSoup(stadium.content, 'html5lib')"
      ],
      "execution_count": null,
      "outputs": []
    },
    {
      "cell_type": "code",
      "metadata": {
        "id": "79tmGNIcMCFE"
      },
      "source": [
        "# Collect stadium data in a dataframe\n",
        "\n",
        "stadiumdata = pd.DataFrame(columns = [\"name\", \"home_team\", \"city\", \"surface_type\", \"capacity\"])\n",
        "\n",
        "tr_list = stadium_soup.find_all('table')[1].find_all('tr')\n",
        "for i in range(1,len(tr_list)):\n",
        "    name = tr_list[i].contents[3].contents[0].contents[0]\n",
        "    home_team = tr_list[i].contents[5].contents[0].string\n",
        "    city = tr_list[i].contents[7].contents[0].contents[0].split(\",\")[0]\n",
        "    surface_type = tr_list[i].contents[15].contents[0].string\n",
        "    capacity = tr_list[i].contents[11].contents[0]\n",
        "    \n",
        "    stadiumdata = stadiumdata.append(pd.DataFrame([[name, home_team, city, surface_type, capacity]], columns = [\"name\", \"home_team\", \"city\", \"surface_type\", \"capacity\"]))\n",
        "    \n",
        "stadiumdata.reset_index(inplace=True, drop=True)  "
      ],
      "execution_count": null,
      "outputs": []
    },
    {
      "cell_type": "code",
      "metadata": {
        "id": "F3bAqRe_MCFE"
      },
      "source": [
        "# Create a dictionary to convert full team name to team ID \n",
        "# (this teamID is abbreviation used as primary key in post tables)\n",
        "\n",
        "teamname_abbrev = {}\n",
        "for i in range(len(teamdata)):\n",
        "    teamname_abbrev[teamdata[\"Name\"][i]] = teamdata[\"TeamID\"][i]\n",
        "# some team name styles differ; add manually\n",
        "teamname_abbrev[\"Minnesota United FC\"] = \"MIN\"\n",
        "teamname_abbrev[\"Los Angeles FC\"] = \"LAFC\"\n",
        "teamname_abbrev[\"Orlando City SC\"] = \"ORL\"\n",
        "teamname_abbrev[\"Atlanta United FC\"] = \"ATL\"\n",
        "teamname_abbrev[\"CF Montréal\"] = \"MTL\"\n",
        "\n",
        "# Use dataframe and dictionary to populate dataframe\n",
        "\n",
        "for i in range(len(stadiumdata)):\n",
        "    sql = '''insert into stadium\n",
        "             (name, home_team, city, surface_type, capacity)\n",
        "             values\n",
        "             (:name, :home_team, :city, :surface_type, :capacity)'''\n",
        "    cursor.execute(sql, {'name':stadiumdata[\"name\"][i], 'home_team':teamname_abbrev[stadiumdata[\"home_team\"][i]], 'city':stadiumdata[\"city\"][i], 'surface_type':stadiumdata[\"surface_type\"][i], 'capacity':stadiumdata[\"capacity\"][i]})\n",
        "    \n",
        "    conn.commit()"
      ],
      "execution_count": null,
      "outputs": []
    },
    {
      "cell_type": "code",
      "metadata": {
        "id": "Qxs-I8C1MCFE"
      },
      "source": [
        "# Scrape coach data from Wikipedia\n",
        "\n",
        "coaches_url = \"https://en.wikipedia.org/wiki/List_of_Major_League_Soccer_coaches\"\n",
        "coaches = requests.get(coaches_url)\n",
        "coaches_soup = BeautifulSoup(coaches.content, 'html5lib')"
      ],
      "execution_count": null,
      "outputs": []
    },
    {
      "cell_type": "code",
      "metadata": {
        "id": "hWjnOnmTMCFF"
      },
      "source": [
        "# Collect coach data in a dataframe\n",
        "\n",
        "coachlist = coaches_soup.find_all('table')[0].find_all('tr')\n",
        "\n",
        "coachdata = pd.DataFrame(columns = [\"name\", \"team\", \"nationality\"])\n",
        "\n",
        "for i in range(1,len(coachlist)):\n",
        "    name = coachlist[i].contents[1].string\n",
        "    nationality = coachlist[i].contents[3].contents[1].string\n",
        "    team = coachlist[i].contents[7].string\n",
        "    \n",
        "    coachdata = coachdata.append(pd.DataFrame([[name, team, nationality]], columns = [\"name\", \"team\", \"nationality\"]))\n",
        "\n",
        "coachdata.reset_index(inplace=True, drop=True)   "
      ],
      "execution_count": null,
      "outputs": []
    },
    {
      "cell_type": "code",
      "metadata": {
        "id": "P-C7VlrIMCFF"
      },
      "source": [
        "# Use dataframe and dictionary to populate database\n",
        "\n",
        "for i in range(len(coachdata)):\n",
        "    sql = '''insert into coach\n",
        "             (name, team, nationality)\n",
        "             values\n",
        "             (:name, :team, :nationality)'''\n",
        "    cursor.execute(sql, {'name':coachdata[\"name\"][i], 'team':teamname_abbrev[coachdata[\"team\"][i]], 'nationality':coachdata[\"nationality\"][i]})\n",
        "    \n",
        "    conn.commit()"
      ],
      "execution_count": null,
      "outputs": []
    },
    {
      "cell_type": "markdown",
      "metadata": {
        "id": "VdnWfQ79MCFF"
      },
      "source": [
        "### Manual Entry\n",
        "\n",
        "We have been unable to find an adequate source from which to scrape data about individual matches, so this data will be input manually using DB Browser."
      ]
    },
    {
      "cell_type": "markdown",
      "metadata": {
        "id": "rYSQezoxMCFF"
      },
      "source": [
        "## Queries\n",
        "\n",
        "**When inputting game data, it seemed to me that the second half often contained many more events than the first half. Is this true? I'll compare both scores and penalties.**"
      ]
    },
    {
      "cell_type": "code",
      "metadata": {
        "id": "oWBFmOdUMCFF",
        "outputId": "92d650ab-b975-436b-f8e7-bd7662ccabf4"
      },
      "source": [
        "# number of scores in the first half vs second\n",
        "\n",
        "for row in cursor.execute('''\n",
        "                            select count(time)\n",
        "                            from scores_goal\n",
        "                            where time < 45''').fetchall():\n",
        "    print(row)\n",
        "\n",
        "print()\n",
        "for row in cursor.execute('''\n",
        "                            select count(time)\n",
        "                            from scores_goal\n",
        "                            where time >= 45''').fetchall():\n",
        "    print(row)"
      ],
      "execution_count": null,
      "outputs": [
        {
          "output_type": "stream",
          "text": [
            "(10,)\n",
            "\n",
            "(11,)\n"
          ],
          "name": "stdout"
        }
      ]
    },
    {
      "cell_type": "markdown",
      "metadata": {
        "id": "m9pmsXQ9MCFG"
      },
      "source": [
        "We can see that in total among the 8 games in our database, the same number of goals were scored in the first halves as in the second halves."
      ]
    },
    {
      "cell_type": "code",
      "metadata": {
        "id": "UBgTBK9eMCFG",
        "outputId": "888a0a55-5c96-489d-c3c6-d8c99fee9ab8"
      },
      "source": [
        "# number of penalties in the first half vs second\n",
        "\n",
        "for row in cursor.execute('''\n",
        "                            select count(time)\n",
        "                            from commits_foul\n",
        "                            where time < 45''').fetchall():\n",
        "    print(row)\n",
        "\n",
        "print()\n",
        "for row in cursor.execute('''\n",
        "                            select count(time)\n",
        "                            from commits_foul\n",
        "                            where time >= 45''').fetchall():\n",
        "    print(row)"
      ],
      "execution_count": null,
      "outputs": [
        {
          "output_type": "stream",
          "text": [
            "(5,)\n",
            "\n",
            "(19,)\n"
          ],
          "name": "stdout"
        }
      ]
    },
    {
      "cell_type": "markdown",
      "metadata": {
        "id": "pz5vkEJRMCFG"
      },
      "source": [
        "Conversely, we can see that in these games, fouls were far more likely to be committed in the second half as compared to the first.\n",
        "\n",
        "**I also noticed that jersey numbers are often repeated, sometimes even among players on the same team. Which ones are the most common?**"
      ]
    },
    {
      "cell_type": "code",
      "metadata": {
        "id": "5RyST6f5MCFH"
      },
      "source": [
        "# Which jersey numbers are most common?\n",
        "import pandas as pd\n",
        "\n",
        "jersey_count = pd.DataFrame(cursor.execute('''\n",
        "                            select number, count(*)\n",
        "                            from player\n",
        "                            group by number\n",
        "                            order by count(*)''').fetchall(), columns = [\"Jersey Number\", \"Count\"]).set_index(\"Jersey Number\")"
      ],
      "execution_count": null,
      "outputs": []
    },
    {
      "cell_type": "markdown",
      "metadata": {
        "id": "t1fq2nylMCFH"
      },
      "source": [
        "We see 17 and 22 are the most common jersey numbers (25 players currently in the league wear each of these)."
      ]
    },
    {
      "cell_type": "code",
      "metadata": {
        "id": "f0DfVzVSMCFH",
        "outputId": "f113ff55-7481-4c16-a7b0-fbbea70c1788"
      },
      "source": [
        "jersey_count.plot.bar(figsize = (14,6))"
      ],
      "execution_count": null,
      "outputs": [
        {
          "output_type": "execute_result",
          "data": {
            "text/plain": [
              "<AxesSubplot:xlabel='Jersey Number'>"
            ]
          },
          "metadata": {
            "tags": []
          },
          "execution_count": 82
        },
        {
          "output_type": "display_data",
          "data": {
            "image/png": "[encoded data removed]",
            "text/plain": [
              "<Figure size 1008x432 with 1 Axes>"
            ]
          },
          "metadata": {
            "tags": [],
            "needs_background": "light"
          }
        }
      ]
    },
    {
      "cell_type": "markdown",
      "metadata": {
        "id": "OBjNelCRMCFH"
      },
      "source": [
        "Additionally, lower numbers are far more common than higher ones (numbers in above 40 are rarely, if ever, repeated, excluding 99).\n",
        "\n",
        "**Which stadiums have the highest capacity?**\n",
        "\n",
        "**Which players are coached by American coaches?**\n",
        "\n",
        "**Which of the teams beginning with \"A\" played on the first day of the season? Which were most attended?**"
      ]
    },
    {
      "cell_type": "code",
      "metadata": {
        "id": "Tdo8-Iz-MCFI",
        "outputId": "835708e7-7f94-42ca-cbfc-6a744046c0da"
      },
      "source": [
        "import matplotlib.pyplot as plt\n",
        "\n",
        "sql1 = 'SELECT stadium.capacity, stadium.city, stadium.home_team, stadium.name, \\\n",
        "stadium.surface_type, team.name FROM stadium INNER JOIN team ON stadium.home_team = team.teamID ORDER BY stadium.capacity DESC LIMIT 6'\n",
        "\n",
        "result = cursor.execute(sql1)\n",
        "all_stads = result.fetchall()\n",
        "\n",
        "stad_df = pd.DataFrame(all_stads, columns = ['capacity', 'city', 'home_team', 'stadium_name', 'surface_type', 'team_name'])\n",
        "print(stad_df)\n",
        "\n",
        "\n",
        "sql2 = 'SELECT coach.name AS coach_name, coach.team, player.name AS player_name, player.number \\\n",
        "FROM coach \\\n",
        "INNER JOIN player ON player.team = coach.team \\\n",
        "WHERE coach.nationality = \"United States\"'\n",
        "result = cursor.execute(sql2)\n",
        "all_usa_coach = result.fetchall()\n",
        "\n",
        "usa_coach_df = pd.DataFrame(all_usa_coach)\n",
        "print(usa_coach_df)\n",
        "\n",
        "# Only matches of teams starting with A and on february 29th, 2020\n",
        "sql3 = '''SELECT home_team, away_team, attendance \\\n",
        "FROM match \\\n",
        "WHERE home_team like 'A%' or away_team like 'A%' \\\n",
        "ORDER BY attendance DESC'''\n",
        "\n",
        "result = cursor.execute(sql3)\n",
        "select_matches = result.fetchall()\n",
        "\n",
        "sel_mat_df = pd.DataFrame(select_matches)\n",
        "print(sel_mat_df)"
      ],
      "execution_count": null,
      "outputs": [
        {
          "output_type": "stream",
          "text": [
            "  capacity        city home_team                stadium_name  surface_type  \\\n",
            "0   42,500     Atlanta       ATL       Mercedes-Benz Stadium     FieldTurf   \n",
            "1   37,722     Seattle       SEA                 Lumen Field     FieldTurf   \n",
            "2   32,250  Cincinnati       CIN             Nippert Stadium    Act Global   \n",
            "3   30,321       Bronx       NYC              Yankee Stadium         Grass   \n",
            "4   30,000     Toronto       TOR                   BMO Field  Hybrid grass   \n",
            "5   27,000      Carson        LA  Dignity Health Sports Park         Grass   \n",
            "\n",
            "             team_name  \n",
            "0       Atlanta United  \n",
            "1  Seattle Sounders FC  \n",
            "2        FC Cincinnati  \n",
            "3     New York City FC  \n",
            "4           Toronto FC  \n",
            "5            LA Galaxy  \n",
            "                 0    1                    2   3\n",
            "0    Freddy Juarez  RSL        Aaron Herrera  22\n",
            "1       Josh Wolff  ATX     Aaron Schoenfeld  13\n",
            "2     Caleb Porter  CLB      Aboubacar Keita  30\n",
            "3     Robin Fraser  COL    Abraham Rodriguez  28\n",
            "4      Bruce Arena   NE           Adam Buksa   9\n",
            "..             ...  ...                  ...  ..\n",
            "361   Robin Fraser  COL         Younes Namli  21\n",
            "362  Freddy Juarez  RSL          Zac MacMath  18\n",
            "363     Josh Wolff  ATX         Zan Kolmanic  21\n",
            "364      Tab Ramos  HOU       Zarek Valentin   4\n",
            "365      Tab Ramos  HOU  Óscar Boniek García  27\n",
            "\n",
            "[366 rows x 4 columns]\n",
            "     0    1      2\n",
            "0  NSH  ATL  59069\n"
          ],
          "name": "stdout"
        }
      ]
    },
    {
      "cell_type": "code",
      "metadata": {
        "id": "bWZoMATdMCFI",
        "outputId": "9c9b25f6-2704-4e57-a343-d03f2943f622"
      },
      "source": [
        "list(stad_df.columns)\n",
        "pd.DataFrame.head(stad_df)\n",
        "cities = ['Atlanta', 'Seattle', 'Cincinatti', 'Bronx', 'Toronto']\n",
        "values = [42500, 37722, 32250, 30321, 30000]\n",
        "# stad_df = stad_df.iloc[1:]\n",
        "# stad_df['capacity'] = pd.to_numeric(stad_df['capacity'])\n",
        "plt.bar(cities, values, color='red')\n",
        "plt.xlabel('City')\n",
        "plt.ylabel('Stadium Capacity')\n",
        "plt.title('Stadium Capacity by City')"
      ],
      "execution_count": null,
      "outputs": [
        {
          "output_type": "execute_result",
          "data": {
            "text/plain": [
              "Text(0.5, 1.0, 'Stadium Capacity by City')"
            ]
          },
          "metadata": {
            "tags": []
          },
          "execution_count": 86
        },
        {
          "output_type": "display_data",
          "data": {
            "image/png": "[encoded data removed]",
            "text/plain": [
              "<Figure size 432x288 with 1 Axes>"
            ]
          },
          "metadata": {
            "tags": [],
            "needs_background": "light"
          }
        }
      ]
    },
    {
      "cell_type": "markdown",
      "metadata": {
        "id": "zQP2zPYqMCFI"
      },
      "source": [
        "The largest stadiums by capacity are in Atlanta, Seattle, Cincinatti, New York, and Toronto.\n",
        "\n",
        "365 of the 773 league players are coached by Americans (just under half)!\n",
        "\n",
        "Atlanta was the only \"A\" team to play on this day (against Nashville), and 59069 people attended!"
      ]
    },
    {
      "cell_type": "markdown",
      "metadata": {
        "id": "npQ-Ce1MMCFI"
      },
      "source": [
        "**List the roster for Philadelphia Union.**"
      ]
    },
    {
      "cell_type": "code",
      "metadata": {
        "id": "eytLoJcaMCFI",
        "outputId": "985aa3d6-c063-4105-a589-47aa5162ab37"
      },
      "source": [
        "Q1 = \"SELECT player.name, player.position,player.team, team.name FROM player INNER JOIN team ON team.teamID = player.team WHERE team = 'PHI'\"\n",
        "resultQ1 = cursor.execute(Q1)\n",
        "all_players_philly = resultQ1.fetchall()\n",
        "\n",
        "philly_team_df = pd.DataFrame(all_players_philly,columns = ['Name','Position','Team','Team Name'])\n",
        "print(philly_team_df)"
      ],
      "execution_count": null,
      "outputs": [
        {
          "output_type": "stream",
          "text": [
            "                         Name    Position Team           Team Name\n",
            "0                  Leon Flach  Midfielder  PHI  Philadelphia Union\n",
            "1              Stuart Findlay    Defender  PHI  Philadelphia Union\n",
            "2                Jack Elliott    Defender  PHI  Philadelphia Union\n",
            "3              Quinn Sullivan  Midfielder  PHI  Philadelphia Union\n",
            "4              Nathan Harriel    Defender  PHI  Philadelphia Union\n",
            "5             Paxten Aaronson  Midfielder  PHI  Philadelphia Union\n",
            "6               Brandan Craig  Midfielder  PHI  Philadelphia Union\n",
            "7                Jack McGlynn  Midfielder  PHI  Philadelphia Union\n",
            "8               Jakob Glesnes    Defender  PHI  Philadelphia Union\n",
            "9                Matej Oravec  Midfielder  PHI  Philadelphia Union\n",
            "10              José Martínez  Midfielder  PHI  Philadelphia Union\n",
            "11                Cole Turner  Midfielder  PHI  Philadelphia Union\n",
            "12              Jack De Vries  Midfielder  PHI  Philadelphia Union\n",
            "13            Jamiro Monteiro  Midfielder  PHI  Philadelphia Union\n",
            "14                 Kai Wagner    Defender  PHI  Philadelphia Union\n",
            "15             Matthew Freese  Goalkeeper  PHI  Philadelphia Union\n",
            "16           Greg Ranjitsingh  Goalkeeper  PHI  Philadelphia Union\n",
            "17              Sergio Santos     Forward  PHI  Philadelphia Union\n",
            "18           Kacper Przybylko     Forward  PHI  Philadelphia Union\n",
            "19             Olivier Mbaizo    Defender  PHI  Philadelphia Union\n",
            "20                  Matt Real    Defender  PHI  Philadelphia Union\n",
            "21            Anthony Fontana  Midfielder  PHI  Philadelphia Union\n",
            "22                 Cory Burke     Forward  PHI  Philadelphia Union\n",
            "23  Ilson Pereira Dias Júnior  Midfielder  PHI  Philadelphia Union\n",
            "24                 Joe Bendik  Goalkeeper  PHI  Philadelphia Union\n",
            "25                Andre Blake  Goalkeeper  PHI  Philadelphia Union\n",
            "26           Alejandro Bedoya  Midfielder  PHI  Philadelphia Union\n"
          ],
          "name": "stdout"
        }
      ]
    },
    {
      "cell_type": "markdown",
      "metadata": {
        "id": "TNirJcvJMCFJ"
      },
      "source": [
        "**Which teams scored the most goals (on February 29, 2020, the day of matches we chose to include in our database)?**"
      ]
    },
    {
      "cell_type": "code",
      "metadata": {
        "id": "u-YTp3LsMCFJ",
        "outputId": "c5ce122d-a371-4c9e-ba7a-a379af666078"
      },
      "source": [
        "Q2 = \"SELECT team.name, scores_goal.team, count(scores_goal.team)FROM scores_goal INNER JOIN team WHERE scores_goal.team = team.teamID GROUP By team.teamID \"\n",
        "resultQ2 = cursor.execute(Q2)\n",
        "team_goals = resultQ2.fetchall()\n",
        "    \n",
        "team_goals_df = pd.DataFrame(team_goals,columns = ['Team Name','Team','# of goals'])\n",
        "print(team_goals_df)\n",
        "team_goals_df.plot.bar(x='Team',y='# of goals', title = 'Number of Goals Scored by Team')"
      ],
      "execution_count": null,
      "outputs": [
        {
          "output_type": "stream",
          "text": [
            "                 Team Name Team  # of goals\n",
            "0           Atlanta United  ATL           2\n",
            "1          Colorado Rapids  COL           2\n",
            "2                FC Dallas  DAL           2\n",
            "3              D.C. United   DC           1\n",
            "4        Houston Dynamo FC  HOU           1\n",
            "5                LA Galaxy   LA           1\n",
            "6              CF Montréal  MTL           2\n",
            "7   New England Revolution   NE           1\n",
            "8             Nashville SC  NSH           1\n",
            "9     San Jose Earthquakes   SJ           2\n",
            "10    Sporting Kansas City  SKC           3\n",
            "11              Toronto FC  TOR           2\n",
            "12  Vancouver Whitecaps FC  VAN           1\n"
          ],
          "name": "stdout"
        },
        {
          "output_type": "execute_result",
          "data": {
            "text/plain": [
              "<AxesSubplot:title={'center':'Number of Goals Scored by Team'}, xlabel='Team'>"
            ]
          },
          "metadata": {
            "tags": []
          },
          "execution_count": 95
        },
        {
          "output_type": "display_data",
          "data": {
            "image/png": "[encoded data removed]",
            "text/plain": [
              "<Figure size 432x288 with 1 Axes>"
            ]
          },
          "metadata": {
            "tags": [],
            "needs_background": "light"
          }
        }
      ]
    },
    {
      "cell_type": "markdown",
      "metadata": {
        "id": "XPKVGZeZMCFJ"
      },
      "source": [
        "Sporting Kansas City scored the most goals on the first day (3)."
      ]
    },
    {
      "cell_type": "markdown",
      "metadata": {
        "id": "XCLVb-_tMCFJ"
      },
      "source": [
        "**Which DC United players committed fouls?**"
      ]
    },
    {
      "cell_type": "code",
      "metadata": {
        "id": "gRxD3X_2MCFK",
        "outputId": "b5bec4f2-3c65-441a-d9ee-af9845be2c31"
      },
      "source": [
        "# Who has committed a foul for DC United? \n",
        "Q3 = \"SELECT commits_foul.player, commits_foul.team, count(commits_foul.player),commits_foul.card FROM commits_foul WHERE commits_foul.team = 'DC' GROUP By commits_foul.player\"\n",
        "resultQ3 = cursor.execute(Q3)\n",
        "dc_penalties = resultQ2.fetchall()\n",
        "\n",
        "dc_penalty_df = pd.DataFrame(dc_penalties,columns = ['Name','Team','# of Penalties','Card Color'])\n",
        "print(dc_penalty_df)\n",
        "\n",
        "dc_penalty_df.plot.bar(x='Team',y='# of Penalties', title = 'Number of Penalties by Team')"
      ],
      "execution_count": null,
      "outputs": [
        {
          "output_type": "stream",
          "text": [
            "                Name Team  # of Penalties Card Color\n",
            "0  Frédéric Brillant   DC               1          Y\n",
            "1        Joseph Mora   DC               1          Y\n",
            "2      Júnior Moreno   DC               1          Y\n"
          ],
          "name": "stdout"
        }
      ]
    },
    {
      "cell_type": "markdown",
      "metadata": {
        "id": "plHSxry1MCFK"
      },
      "source": [
        "Frédéric Brillant, Joseph Mora, and Júnior Moreno committed fouls."
      ]
    },
    {
      "cell_type": "code",
      "metadata": {
        "id": "lR4u9HenMCFK"
      },
      "source": [
        "cursor.close()"
      ],
      "execution_count": null,
      "outputs": []
    }
  ]
}