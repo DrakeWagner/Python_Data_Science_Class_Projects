{
 "cells": [
  {
   "cell_type": "code",
   "execution_count": 1,
   "metadata": {},
   "outputs": [],
   "source": [
    "## World Progress"
   ]
  },
  {
   "cell_type": "code",
   "execution_count": 76,
   "metadata": {},
   "outputs": [
    {
     "name": "stdout",
     "output_type": "stream",
     "text": [
      "=====================================================================\n",
      "Assignment: World Progress\n",
      "OK, version v1.14.15\n",
      "=====================================================================\n",
      "\n",
      "Successfully logged in as dbw2tn@virginia.edu\n"
     ]
    }
   ],
   "source": [
    "from datascience import *\n",
    "import numpy as np\n",
    "\n",
    "%matplotlib inline\n",
    "import matplotlib.pyplot as plots\n",
    "plots.style.use('fivethirtyeight')\n",
    "\n",
    "from client.api.notebook import Notebook\n",
    "ok = Notebook('project1.ok')\n",
    "_ = ok.auth(inline=True)"
   ]
  },
  {
   "cell_type": "markdown",
   "metadata": {
    "deletable": false,
    "editable": false
   },
   "source": [
    "## 1. Global Population Growth\n"
   ]
  },
  {
   "cell_type": "markdown",
   "metadata": {
    "deletable": false,
    "editable": false
   },
   "source": [
    "The global population of humans reached 1 billion around 1800, 3 billion around 1960, and 7 billion around 2011. The potential impact of exponential population growth has concerned scientists, economists, and politicians alike.\n",
    "\n",
    "The UN Population Division estimates that the world population will likely continue to grow throughout the 21st century, but at a slower rate, perhaps reaching 11 billion by 2100. However, the UN does not rule out scenarios of more extreme growth.\n",
    "\n",
    "<a href=\"http://www.pewresearch.org/fact-tank/2015/06/08/scientists-more-worried-than-public-about-worlds-growing-population/ft_15-06-04_popcount/\"> \n",
    " <img src=\"pew_population_projection.png\"/> \n",
    "</a>\n",
    "\n",
    "In this section, we will examine some of the factors that influence population growth and how they are changing around the world.\n",
    "\n",
    "The first table we will consider is the total population of each country over time. Run the cell below."
   ]
  },
  {
   "cell_type": "code",
   "execution_count": 3,
   "metadata": {
    "deletable": false,
    "editable": false
   },
   "outputs": [
    {
     "data": {
      "text/html": [
       "<table border=\"1\" class=\"dataframe\">\n",
       "    <thead>\n",
       "        <tr>\n",
       "            <th>geo</th> <th>time</th> <th>population_total</th>\n",
       "        </tr>\n",
       "    </thead>\n",
       "    <tbody>\n",
       "        <tr>\n",
       "            <td>abw </td> <td>1800</td> <td>19286           </td>\n",
       "        </tr>\n",
       "        <tr>\n",
       "            <td>abw </td> <td>1801</td> <td>19286           </td>\n",
       "        </tr>\n",
       "        <tr>\n",
       "            <td>abw </td> <td>1802</td> <td>19286           </td>\n",
       "        </tr>\n",
       "    </tbody>\n",
       "</table>\n",
       "<p>... (87792 rows omitted)</p>"
      ],
      "text/plain": [
       "<IPython.core.display.HTML object>"
      ]
     },
     "metadata": {},
     "output_type": "display_data"
    }
   ],
   "source": [
    "population = Table.read_table('population.csv')\n",
    "population.show(3)"
   ]
  },
  {
   "cell_type": "markdown",
   "metadata": {},
   "source": [
    "**Note:** The population csv file can also be found [here](https://github.com/open-numbers/ddf--gapminder--systema_globalis/raw/master/ddf--datapoints--population_total--by--geo--time.csv). The data for this project was downloaded in February, 2017."
   ]
  },
  {
   "cell_type": "markdown",
   "metadata": {
    "deletable": false,
    "editable": false
   },
   "source": [
    "### Bangladesh\n",
    "\n",
    "In the `population` table, the `geo` column contains three-letter codes established by the [International Organization for Standardization](https://en.wikipedia.org/wiki/International_Organization_for_Standardization) (ISO) in the [Alpha-3](https://en.wikipedia.org/wiki/ISO_3166-1_alpha-3#Current_codes) standard. We will begin by taking a close look at Bangladesh. Inspect the standard to find the 3-letter code for Bangladesh."
   ]
  },
  {
   "cell_type": "markdown",
   "metadata": {
    "deletable": false,
    "editable": false
   },
   "source": [
    "**Question 1.** Create a table called `b_pop` that has two columns labeled `time` and `population_total`. The first column should contain the years from 1970 through 2015 (including both 1970 and 2015) and the second should contain the population of Bangladesh in each of those years."
   ]
  },
  {
   "cell_type": "code",
   "execution_count": 4,
   "metadata": {
    "deletable": false
   },
   "outputs": [
    {
     "data": {
      "text/html": [
       "<table border=\"1\" class=\"dataframe\">\n",
       "    <thead>\n",
       "        <tr>\n",
       "            <th>time</th> <th>population_total</th>\n",
       "        </tr>\n",
       "    </thead>\n",
       "    <tbody>\n",
       "        <tr>\n",
       "            <td>1970</td> <td>65048701        </td>\n",
       "        </tr>\n",
       "        <tr>\n",
       "            <td>1971</td> <td>66417450        </td>\n",
       "        </tr>\n",
       "        <tr>\n",
       "            <td>1972</td> <td>67578486        </td>\n",
       "        </tr>\n",
       "        <tr>\n",
       "            <td>1973</td> <td>68658472        </td>\n",
       "        </tr>\n",
       "        <tr>\n",
       "            <td>1974</td> <td>69837960        </td>\n",
       "        </tr>\n",
       "        <tr>\n",
       "            <td>1975</td> <td>71247153        </td>\n",
       "        </tr>\n",
       "        <tr>\n",
       "            <td>1976</td> <td>72930206        </td>\n",
       "        </tr>\n",
       "        <tr>\n",
       "            <td>1977</td> <td>74848466        </td>\n",
       "        </tr>\n",
       "        <tr>\n",
       "            <td>1978</td> <td>76948378        </td>\n",
       "        </tr>\n",
       "        <tr>\n",
       "            <td>1979</td> <td>79141947        </td>\n",
       "        </tr>\n",
       "    </tbody>\n",
       "</table>\n",
       "<p>... (36 rows omitted)</p>"
      ],
      "text/plain": [
       "time | population_total\n",
       "1970 | 65048701\n",
       "1971 | 66417450\n",
       "1972 | 67578486\n",
       "1973 | 68658472\n",
       "1974 | 69837960\n",
       "1975 | 71247153\n",
       "1976 | 72930206\n",
       "1977 | 74848466\n",
       "1978 | 76948378\n",
       "1979 | 79141947\n",
       "... (36 rows omitted)"
      ]
     },
     "execution_count": 4,
     "metadata": {},
     "output_type": "execute_result"
    }
   ],
   "source": [
    "b_pop = population.where(\"time\", are.between(1970, 2016)).where(\"geo\", are.equal_to(\"bgd\")).drop(\"geo\")\n",
    "b_pop"
   ]
  },
  {
   "cell_type": "code",
   "execution_count": 5,
   "metadata": {
    "deletable": false,
    "editable": false,
    "scrolled": false
   },
   "outputs": [
    {
     "name": "stdout",
     "output_type": "stream",
     "text": [
      "~~~~~~~~~~~~~~~~~~~~~~~~~~~~~~~~~~~~~~~~~~~~~~~~~~~~~~~~~~~~~~~~~~~~~\n",
      "Running tests\n",
      "\n",
      "---------------------------------------------------------------------\n",
      "Test summary\n",
      "    Passed: 3\n",
      "    Failed: 0\n",
      "[ooooooooook] 100.0% passed\n",
      "\n"
     ]
    }
   ],
   "source": [
    "_ = ok.grade('q1_1')"
   ]
  },
  {
   "cell_type": "markdown",
   "metadata": {
    "deletable": false,
    "editable": false
   },
   "source": [
    "Run the following cell to create a table called `b_five` that has the population of Bangladesh every five years. At a glance, it appears that the population of Bangladesh has been growing quickly indeed!"
   ]
  },
  {
   "cell_type": "code",
   "execution_count": 6,
   "metadata": {
    "deletable": false,
    "editable": false
   },
   "outputs": [
    {
     "data": {
      "text/html": [
       "<table border=\"1\" class=\"dataframe\">\n",
       "    <thead>\n",
       "        <tr>\n",
       "            <th>time</th> <th>population_total</th>\n",
       "        </tr>\n",
       "    </thead>\n",
       "    <tbody>\n",
       "        <tr>\n",
       "            <td>1970</td> <td>65,048,701      </td>\n",
       "        </tr>\n",
       "        <tr>\n",
       "            <td>1975</td> <td>71,247,153      </td>\n",
       "        </tr>\n",
       "        <tr>\n",
       "            <td>1980</td> <td>81,364,176      </td>\n",
       "        </tr>\n",
       "        <tr>\n",
       "            <td>1985</td> <td>93,015,182      </td>\n",
       "        </tr>\n",
       "        <tr>\n",
       "            <td>1990</td> <td>105,983,136     </td>\n",
       "        </tr>\n",
       "        <tr>\n",
       "            <td>1995</td> <td>118,427,768     </td>\n",
       "        </tr>\n",
       "        <tr>\n",
       "            <td>2000</td> <td>131,280,739     </td>\n",
       "        </tr>\n",
       "        <tr>\n",
       "            <td>2005</td> <td>142,929,979     </td>\n",
       "        </tr>\n",
       "        <tr>\n",
       "            <td>2010</td> <td>151,616,777     </td>\n",
       "        </tr>\n",
       "        <tr>\n",
       "            <td>2015</td> <td>160,995,642     </td>\n",
       "        </tr>\n",
       "    </tbody>\n",
       "</table>"
      ],
      "text/plain": [
       "time | population_total\n",
       "1970 | 65,048,701\n",
       "1975 | 71,247,153\n",
       "1980 | 81,364,176\n",
       "1985 | 93,015,182\n",
       "1990 | 105,983,136\n",
       "1995 | 118,427,768\n",
       "2000 | 131,280,739\n",
       "2005 | 142,929,979\n",
       "2010 | 151,616,777\n",
       "2015 | 160,995,642"
      ]
     },
     "execution_count": 6,
     "metadata": {},
     "output_type": "execute_result"
    }
   ],
   "source": [
    "b_pop.set_format('population_total', NumberFormatter)\n",
    "\n",
    "fives = np.arange(1970, 2016, 5) # 1970, 1975, 1980, ...\n",
    "b_five = b_pop.sort('time').where('time', are.contained_in(fives))\n",
    "b_five"
   ]
  },
  {
   "cell_type": "markdown",
   "metadata": {
    "deletable": false,
    "editable": false
   },
   "source": [
    "**Question 2.** Assign `b_1970_through_2010` to a table that has the same columns as `b_five` and has one row for every five years from 1970 through 2010 (but not 2015). Then, use that table to assign `initial` to an array that contains the population for every five year interval from 1970 to 2010. Finally, assign `changed` to an array that contains the population for every five year interval from 1975 to 2015.\n",
    "\n",
    "*Hint*: You may find the `exclude` method to be helpful ([Docs](http://data8.org/datascience/_autosummary/datascience.tables.Table.exclude.html))."
   ]
  },
  {
   "cell_type": "code",
   "execution_count": 7,
   "metadata": {
    "deletable": false
   },
   "outputs": [
    {
     "data": {
      "text/plain": [
       "array([ 71247153,  81364176,  93015182, 105983136, 118427768, 131280739,\n",
       "       142929979, 151616777, 160995642])"
      ]
     },
     "execution_count": 7,
     "metadata": {},
     "output_type": "execute_result"
    }
   ],
   "source": [
    "b_1970_through_2010 = b_five.take(np.arange(0, 9))\n",
    "b_1970_through_2010\n",
    "initial = b_1970_through_2010.column(\"population_total\")\n",
    "changed = b_five.take(np.arange(1, 10)).column(\"population_total\")\n",
    "\n",
    "changed"
   ]
  },
  {
   "cell_type": "markdown",
   "metadata": {
    "deletable": false,
    "editable": false
   },
   "source": [
    "We have provided the code below that uses `b_1970_through_2010`, `initial`, and `changed` in order to add a column to the table called `annual_growth`. Don't worry about the calculation of the growth rates; run the test below to test your solution.\n",
    "\n",
    "If you are interested in how we came up with the formula for growth rates, consult the [growth rates](https://www.inferentialthinking.com/chapters/03/2/1/growth) section of the textbook."
   ]
  },
  {
   "cell_type": "code",
   "execution_count": 8,
   "metadata": {
    "deletable": false,
    "editable": false
   },
   "outputs": [
    {
     "data": {
      "text/html": [
       "<table border=\"1\" class=\"dataframe\">\n",
       "    <thead>\n",
       "        <tr>\n",
       "            <th>time</th> <th>population_total</th> <th>annual_growth</th>\n",
       "        </tr>\n",
       "    </thead>\n",
       "    <tbody>\n",
       "        <tr>\n",
       "            <td>1970</td> <td>65,048,701      </td> <td>1.84%        </td>\n",
       "        </tr>\n",
       "        <tr>\n",
       "            <td>1975</td> <td>71,247,153      </td> <td>2.69%        </td>\n",
       "        </tr>\n",
       "        <tr>\n",
       "            <td>1980</td> <td>81,364,176      </td> <td>2.71%        </td>\n",
       "        </tr>\n",
       "        <tr>\n",
       "            <td>1985</td> <td>93,015,182      </td> <td>2.64%        </td>\n",
       "        </tr>\n",
       "        <tr>\n",
       "            <td>1990</td> <td>105,983,136     </td> <td>2.25%        </td>\n",
       "        </tr>\n",
       "        <tr>\n",
       "            <td>1995</td> <td>118,427,768     </td> <td>2.08%        </td>\n",
       "        </tr>\n",
       "        <tr>\n",
       "            <td>2000</td> <td>131,280,739     </td> <td>1.71%        </td>\n",
       "        </tr>\n",
       "        <tr>\n",
       "            <td>2005</td> <td>142,929,979     </td> <td>1.19%        </td>\n",
       "        </tr>\n",
       "        <tr>\n",
       "            <td>2010</td> <td>151,616,777     </td> <td>1.21%        </td>\n",
       "        </tr>\n",
       "    </tbody>\n",
       "</table>"
      ],
      "text/plain": [
       "time | population_total | annual_growth\n",
       "1970 | 65,048,701       | 1.84%\n",
       "1975 | 71,247,153       | 2.69%\n",
       "1980 | 81,364,176       | 2.71%\n",
       "1985 | 93,015,182       | 2.64%\n",
       "1990 | 105,983,136      | 2.25%\n",
       "1995 | 118,427,768      | 2.08%\n",
       "2000 | 131,280,739      | 1.71%\n",
       "2005 | 142,929,979      | 1.19%\n",
       "2010 | 151,616,777      | 1.21%"
      ]
     },
     "execution_count": 8,
     "metadata": {},
     "output_type": "execute_result"
    }
   ],
   "source": [
    "b_five_growth = b_1970_through_2010.with_column('annual_growth', (changed/initial)**0.2-1)\n",
    "b_five_growth.set_format('annual_growth', PercentFormatter)"
   ]
  },
  {
   "cell_type": "code",
   "execution_count": 9,
   "metadata": {
    "deletable": false,
    "editable": false
   },
   "outputs": [
    {
     "name": "stdout",
     "output_type": "stream",
     "text": [
      "~~~~~~~~~~~~~~~~~~~~~~~~~~~~~~~~~~~~~~~~~~~~~~~~~~~~~~~~~~~~~~~~~~~~~\n",
      "Running tests\n",
      "\n",
      "---------------------------------------------------------------------\n",
      "Test summary\n",
      "    Passed: 4\n",
      "    Failed: 0\n",
      "[ooooooooook] 100.0% passed\n",
      "\n"
     ]
    }
   ],
   "source": [
    "_ = ok.grade('q1_2')"
   ]
  },
  {
   "cell_type": "markdown",
   "metadata": {
    "deletable": false,
    "editable": false
   },
   "source": [
    "While the population has grown every five years since 1970, the annual growth rate decreased dramatically from 1985 to 2005. Let's look at some other information in order to develop a possible explanation. Run the next cell to load three additional tables of measurements about countries over time."
   ]
  },
  {
   "cell_type": "code",
   "execution_count": 10,
   "metadata": {
    "deletable": false,
    "editable": false
   },
   "outputs": [],
   "source": [
    "life_expectancy = Table.read_table('life_expectancy.csv')\n",
    "child_mortality = Table.read_table('child_mortality.csv').relabeled(2, 'child_mortality_under_5_per_1000_born')\n",
    "fertility = Table.read_table('fertility.csv')"
   ]
  },
  {
   "cell_type": "markdown",
   "metadata": {
    "deletable": false,
    "editable": false
   },
   "source": [
    "The `life_expectancy` table contains a statistic that is often used to measure how long people live, called *life expectancy at birth*. This number, for a country in a given year, [does not measure how long babies born in that year are expected to live](http://blogs.worldbank.org/opendata/what-does-life-expectancy-birth-really-mean). Instead, it measures how long someone would live, on average, if the *mortality conditions* in that year persisted throughout their lifetime. These \"mortality conditions\" describe what fraction of people at each age survived the year. So, it is a way of measuring the proportion of people that are staying alive, aggregated over different age groups in the population."
   ]
  },
  {
   "cell_type": "markdown",
   "metadata": {},
   "source": [
    "Run the following cells below to see `life_expectancy`, `child_mortality`, and `fertility`. Refer back to these tables as they will be helpful for answering further questions!"
   ]
  },
  {
   "cell_type": "code",
   "execution_count": 11,
   "metadata": {},
   "outputs": [
    {
     "data": {
      "text/html": [
       "<table border=\"1\" class=\"dataframe\">\n",
       "    <thead>\n",
       "        <tr>\n",
       "            <th>geo</th> <th>time</th> <th>life_expectancy_years</th>\n",
       "        </tr>\n",
       "    </thead>\n",
       "    <tbody>\n",
       "        <tr>\n",
       "            <td>afg </td> <td>1800</td> <td>28.21                </td>\n",
       "        </tr>\n",
       "        <tr>\n",
       "            <td>afg </td> <td>1801</td> <td>28.2                 </td>\n",
       "        </tr>\n",
       "        <tr>\n",
       "            <td>afg </td> <td>1802</td> <td>28.19                </td>\n",
       "        </tr>\n",
       "        <tr>\n",
       "            <td>afg </td> <td>1803</td> <td>28.18                </td>\n",
       "        </tr>\n",
       "        <tr>\n",
       "            <td>afg </td> <td>1804</td> <td>28.17                </td>\n",
       "        </tr>\n",
       "        <tr>\n",
       "            <td>afg </td> <td>1805</td> <td>28.16                </td>\n",
       "        </tr>\n",
       "        <tr>\n",
       "            <td>afg </td> <td>1806</td> <td>28.15                </td>\n",
       "        </tr>\n",
       "        <tr>\n",
       "            <td>afg </td> <td>1807</td> <td>28.14                </td>\n",
       "        </tr>\n",
       "        <tr>\n",
       "            <td>afg </td> <td>1808</td> <td>28.13                </td>\n",
       "        </tr>\n",
       "        <tr>\n",
       "            <td>afg </td> <td>1809</td> <td>28.12                </td>\n",
       "        </tr>\n",
       "    </tbody>\n",
       "</table>\n",
       "<p>... (43847 rows omitted)</p>"
      ],
      "text/plain": [
       "geo  | time | life_expectancy_years\n",
       "afg  | 1800 | 28.21\n",
       "afg  | 1801 | 28.2\n",
       "afg  | 1802 | 28.19\n",
       "afg  | 1803 | 28.18\n",
       "afg  | 1804 | 28.17\n",
       "afg  | 1805 | 28.16\n",
       "afg  | 1806 | 28.15\n",
       "afg  | 1807 | 28.14\n",
       "afg  | 1808 | 28.13\n",
       "afg  | 1809 | 28.12\n",
       "... (43847 rows omitted)"
      ]
     },
     "execution_count": 11,
     "metadata": {},
     "output_type": "execute_result"
    }
   ],
   "source": [
    "life_expectancy"
   ]
  },
  {
   "cell_type": "code",
   "execution_count": 12,
   "metadata": {},
   "outputs": [
    {
     "data": {
      "text/html": [
       "<table border=\"1\" class=\"dataframe\">\n",
       "    <thead>\n",
       "        <tr>\n",
       "            <th>geo</th> <th>time</th> <th>child_mortality_under_5_per_1000_born</th>\n",
       "        </tr>\n",
       "    </thead>\n",
       "    <tbody>\n",
       "        <tr>\n",
       "            <td>afg </td> <td>1800</td> <td>468.6                                </td>\n",
       "        </tr>\n",
       "        <tr>\n",
       "            <td>afg </td> <td>1801</td> <td>468.6                                </td>\n",
       "        </tr>\n",
       "        <tr>\n",
       "            <td>afg </td> <td>1802</td> <td>468.6                                </td>\n",
       "        </tr>\n",
       "        <tr>\n",
       "            <td>afg </td> <td>1803</td> <td>468.6                                </td>\n",
       "        </tr>\n",
       "        <tr>\n",
       "            <td>afg </td> <td>1804</td> <td>468.6                                </td>\n",
       "        </tr>\n",
       "        <tr>\n",
       "            <td>afg </td> <td>1805</td> <td>468.6                                </td>\n",
       "        </tr>\n",
       "        <tr>\n",
       "            <td>afg </td> <td>1806</td> <td>470                                  </td>\n",
       "        </tr>\n",
       "        <tr>\n",
       "            <td>afg </td> <td>1807</td> <td>470                                  </td>\n",
       "        </tr>\n",
       "        <tr>\n",
       "            <td>afg </td> <td>1808</td> <td>470                                  </td>\n",
       "        </tr>\n",
       "        <tr>\n",
       "            <td>afg </td> <td>1809</td> <td>470                                  </td>\n",
       "        </tr>\n",
       "    </tbody>\n",
       "</table>\n",
       "<p>... (40746 rows omitted)</p>"
      ],
      "text/plain": [
       "geo  | time | child_mortality_under_5_per_1000_born\n",
       "afg  | 1800 | 468.6\n",
       "afg  | 1801 | 468.6\n",
       "afg  | 1802 | 468.6\n",
       "afg  | 1803 | 468.6\n",
       "afg  | 1804 | 468.6\n",
       "afg  | 1805 | 468.6\n",
       "afg  | 1806 | 470\n",
       "afg  | 1807 | 470\n",
       "afg  | 1808 | 470\n",
       "afg  | 1809 | 470\n",
       "... (40746 rows omitted)"
      ]
     },
     "execution_count": 12,
     "metadata": {},
     "output_type": "execute_result"
    }
   ],
   "source": [
    "child_mortality"
   ]
  },
  {
   "cell_type": "code",
   "execution_count": 13,
   "metadata": {},
   "outputs": [
    {
     "data": {
      "text/html": [
       "<table border=\"1\" class=\"dataframe\">\n",
       "    <thead>\n",
       "        <tr>\n",
       "            <th>geo</th> <th>time</th> <th>children_per_woman_total_fertility</th>\n",
       "        </tr>\n",
       "    </thead>\n",
       "    <tbody>\n",
       "        <tr>\n",
       "            <td>afg </td> <td>1800</td> <td>7                                 </td>\n",
       "        </tr>\n",
       "        <tr>\n",
       "            <td>afg </td> <td>1801</td> <td>7                                 </td>\n",
       "        </tr>\n",
       "        <tr>\n",
       "            <td>afg </td> <td>1802</td> <td>7                                 </td>\n",
       "        </tr>\n",
       "        <tr>\n",
       "            <td>afg </td> <td>1803</td> <td>7                                 </td>\n",
       "        </tr>\n",
       "        <tr>\n",
       "            <td>afg </td> <td>1804</td> <td>7                                 </td>\n",
       "        </tr>\n",
       "        <tr>\n",
       "            <td>afg </td> <td>1805</td> <td>7                                 </td>\n",
       "        </tr>\n",
       "        <tr>\n",
       "            <td>afg </td> <td>1806</td> <td>7                                 </td>\n",
       "        </tr>\n",
       "        <tr>\n",
       "            <td>afg </td> <td>1807</td> <td>7                                 </td>\n",
       "        </tr>\n",
       "        <tr>\n",
       "            <td>afg </td> <td>1808</td> <td>7                                 </td>\n",
       "        </tr>\n",
       "        <tr>\n",
       "            <td>afg </td> <td>1809</td> <td>7                                 </td>\n",
       "        </tr>\n",
       "    </tbody>\n",
       "</table>\n",
       "<p>... (43402 rows omitted)</p>"
      ],
      "text/plain": [
       "geo  | time | children_per_woman_total_fertility\n",
       "afg  | 1800 | 7\n",
       "afg  | 1801 | 7\n",
       "afg  | 1802 | 7\n",
       "afg  | 1803 | 7\n",
       "afg  | 1804 | 7\n",
       "afg  | 1805 | 7\n",
       "afg  | 1806 | 7\n",
       "afg  | 1807 | 7\n",
       "afg  | 1808 | 7\n",
       "afg  | 1809 | 7\n",
       "... (43402 rows omitted)"
      ]
     },
     "execution_count": 13,
     "metadata": {},
     "output_type": "execute_result"
    }
   ],
   "source": [
    "fertility"
   ]
  },
  {
   "cell_type": "markdown",
   "metadata": {
    "deletable": false,
    "editable": false
   },
   "source": [
    "**Question 3.** Perhaps population is growing more slowly because people aren't living as long. Use the `life_expectancy` table to draw a line graph with the years 1970 and later on the horizontal axis that shows how the *life expectancy at birth* has changed in Bangladesh."
   ]
  },
  {
   "cell_type": "code",
   "execution_count": 14,
   "metadata": {
    "deletable": false,
    "manual_grade": true,
    "manual_problem_id": "global_pop_3"
   },
   "outputs": [
    {
     "data": {
      "image/png": "[encoded data removed]",
      "text/plain": [
       "<Figure size 432x288 with 1 Axes>"
      ]
     },
     "metadata": {},
     "output_type": "display_data"
    }
   ],
   "source": [
    "Q3_years = life_expectancy.where(\"time\", are.above(1969)).where(\"geo\", are.equal_to(\"bgd\")).drop(\"geo\")\n",
    "Q3_years.plot(\"time\")"
   ]
  },
  {
   "cell_type": "markdown",
   "metadata": {
    "deletable": false,
    "editable": false
   },
   "source": [
    "**Question 4.** Assuming everything else stays the same, does the graph above help directly explain why the population growth rate decreased from 1985 to 2010 in Bangladesh? Why or why not? What happened in Bangladesh in 1991, and does that event explain the change in population growth rate?"
   ]
  },
  {
   "cell_type": "markdown",
   "metadata": {
    "collapsed": true,
    "deletable": false,
    "manual_grade": true,
    "manual_problem_id": "global_pop_4"
   },
   "source": [
    "The slope of life expectancy decreases, which correlates with a decrease in annual population growth percentage. There was a massive hurricane in 1991 that killed many civilians (the fifth deadliest tropicale cyclone on record!!). This explains the change in population growth rate."
   ]
  },
  {
   "cell_type": "markdown",
   "metadata": {
    "deletable": false,
    "editable": false
   },
   "source": [
    "The `fertility` table contains a statistic that is often used to measure how many babies are being born, the *total fertility rate*. This number describes the [number of children a woman would have in her lifetime](https://www.measureevaluation.org/prh/rh_indicators/specific/fertility/total-fertility-rate), on average, if the current rates of birth by age of the mother persisted throughout her child bearing years, assuming she survived through age 49. "
   ]
  },
  {
   "cell_type": "markdown",
   "metadata": {
    "deletable": false,
    "editable": false
   },
   "source": [
    "**Question 5.** Write a function `fertility_over_time` that takes the Alpha-3 code of a `country` and a `start` year. It returns a two-column table with labels \"`Year`\" and \"`Children per woman`\" that can be used to generate a line chart of the country's fertility rate each year, starting at the `start` year. The plot should include the `start` year and all later years that appear in the `fertility` table. \n",
    "\n",
    "Then, in the next cell, call your `fertility_over_time` function on the Alpha-3 code for Bangladesh and the year 1970 in order to plot how Bangladesh's fertility rate has changed since 1970. Note that the function `fertility_over_time` should not return the plot itself **The expression that draws the line plot is provided for you; please don't change it.**"
   ]
  },
  {
   "cell_type": "code",
   "execution_count": 15,
   "metadata": {},
   "outputs": [
    {
     "data": {
      "text/html": [
       "<table border=\"1\" class=\"dataframe\">\n",
       "    <thead>\n",
       "        <tr>\n",
       "            <th>geo</th> <th>time</th> <th>children_per_woman_total_fertility</th>\n",
       "        </tr>\n",
       "    </thead>\n",
       "    <tbody>\n",
       "        <tr>\n",
       "            <td>afg </td> <td>1800</td> <td>7                                 </td>\n",
       "        </tr>\n",
       "        <tr>\n",
       "            <td>afg </td> <td>1801</td> <td>7                                 </td>\n",
       "        </tr>\n",
       "        <tr>\n",
       "            <td>afg </td> <td>1802</td> <td>7                                 </td>\n",
       "        </tr>\n",
       "        <tr>\n",
       "            <td>afg </td> <td>1803</td> <td>7                                 </td>\n",
       "        </tr>\n",
       "        <tr>\n",
       "            <td>afg </td> <td>1804</td> <td>7                                 </td>\n",
       "        </tr>\n",
       "        <tr>\n",
       "            <td>afg </td> <td>1805</td> <td>7                                 </td>\n",
       "        </tr>\n",
       "        <tr>\n",
       "            <td>afg </td> <td>1806</td> <td>7                                 </td>\n",
       "        </tr>\n",
       "        <tr>\n",
       "            <td>afg </td> <td>1807</td> <td>7                                 </td>\n",
       "        </tr>\n",
       "        <tr>\n",
       "            <td>afg </td> <td>1808</td> <td>7                                 </td>\n",
       "        </tr>\n",
       "        <tr>\n",
       "            <td>afg </td> <td>1809</td> <td>7                                 </td>\n",
       "        </tr>\n",
       "    </tbody>\n",
       "</table>\n",
       "<p>... (43402 rows omitted)</p>"
      ],
      "text/plain": [
       "geo  | time | children_per_woman_total_fertility\n",
       "afg  | 1800 | 7\n",
       "afg  | 1801 | 7\n",
       "afg  | 1802 | 7\n",
       "afg  | 1803 | 7\n",
       "afg  | 1804 | 7\n",
       "afg  | 1805 | 7\n",
       "afg  | 1806 | 7\n",
       "afg  | 1807 | 7\n",
       "afg  | 1808 | 7\n",
       "afg  | 1809 | 7\n",
       "... (43402 rows omitted)"
      ]
     },
     "execution_count": 15,
     "metadata": {},
     "output_type": "execute_result"
    }
   ],
   "source": [
    "fertility"
   ]
  },
  {
   "cell_type": "code",
   "execution_count": 16,
   "metadata": {
    "deletable": false
   },
   "outputs": [],
   "source": [
    "def fertility_over_time(country, start):\n",
    "    \"\"\"Create a two-column table that describes a country's total fertility rate each year.\"\"\"\n",
    "    country_fertility = fertility.where(\"geo\", are.equal_to(country))\n",
    "    country_fertility_after_start = country_fertility.where(\"time\", are.above(start-1)).drop(\"geo\").relabeled(\"time\", \"Year\").relabeled(\"children_per_woman_total_fertility\", \"Children per woman\")\n",
    "    return country_fertility_after_start\n",
    "\n",
    "\n",
    "\n",
    "\n"
   ]
  },
  {
   "cell_type": "code",
   "execution_count": 17,
   "metadata": {
    "deletable": false
   },
   "outputs": [
    {
     "data": {
      "image/png": "[encoded data removed]",
      "text/plain": [
       "<Figure size 432x288 with 1 Axes>"
      ]
     },
     "metadata": {},
     "output_type": "display_data"
    }
   ],
   "source": [
    "bangladesh_code = \"bgd\"\n",
    "fertility_over_time(bangladesh_code, 1970).plot(0, 1) # You should *not* change this line."
   ]
  },
  {
   "cell_type": "code",
   "execution_count": 18,
   "metadata": {
    "deletable": false,
    "editable": false
   },
   "outputs": [
    {
     "name": "stdout",
     "output_type": "stream",
     "text": [
      "~~~~~~~~~~~~~~~~~~~~~~~~~~~~~~~~~~~~~~~~~~~~~~~~~~~~~~~~~~~~~~~~~~~~~\n",
      "Running tests\n",
      "\n",
      "---------------------------------------------------------------------\n",
      "Test summary\n",
      "    Passed: 2\n",
      "    Failed: 0\n",
      "[ooooooooook] 100.0% passed\n",
      "\n"
     ]
    }
   ],
   "source": [
    "_ = ok.grade('q1_5')"
   ]
  },
  {
   "cell_type": "markdown",
   "metadata": {
    "deletable": false,
    "editable": false
   },
   "source": [
    "**Question 6.** Assuming everything else stays the same, does the graph above help directly explain why the population growth rate decreased from 1985 to 2010 in Bangladesh? Why or why not?"
   ]
  },
  {
   "cell_type": "markdown",
   "metadata": {
    "deletable": false,
    "manual_grade": true,
    "manual_problem_id": "global_pop_6"
   },
   "source": [
    "Yes, the decrease in slope shows that women are having less children, and thus the population is not rising as quickly."
   ]
  },
  {
   "cell_type": "markdown",
   "metadata": {
    "deletable": false,
    "editable": false
   },
   "source": [
    "It has been observed that lower fertility rates are often associated with lower child mortality rates. The link has been attributed to family planning: if parents can expect that their children will all survive into adulthood, then they will choose to have fewer children. We can see if this association is evident in Bangladesh by plotting the relationship between total fertility rate and [child mortality rate per 1000 children](https://en.wikipedia.org/wiki/Child_mortality)."
   ]
  },
  {
   "cell_type": "markdown",
   "metadata": {
    "deletable": false,
    "editable": false
   },
   "source": [
    "**Question 7.** Using both the `fertility` and `child_mortality` tables, draw a scatter diagram with one point for each year, starting with 1970, that has Bangladesh's total fertility on the horizontal axis and its child mortality on the vertical axis. \n",
    "\n",
    "**The expression that draws the scatter diagram is provided for you; please don't change it.** Instead, create a table called `post_1969_fertility_and_child_mortality` with the appropriate column labels and data in order to generate the chart correctly. Use the label \"`Children per woman`\" to describe total fertility and the label \"`Child deaths per 1000 born`\" to describe child mortality."
   ]
  },
  {
   "cell_type": "code",
   "execution_count": 19,
   "metadata": {
    "deletable": false,
    "scrolled": true
   },
   "outputs": [
    {
     "data": {
      "image/png": "[encoded data removed]",
      "text/plain": [
       "<Figure size 360x360 with 1 Axes>"
      ]
     },
     "metadata": {},
     "output_type": "display_data"
    }
   ],
   "source": [
    "bgd_fertility = fertility.where(\"geo\", are.equal_to(\"bgd\")).drop(\"geo\").relabeled(\"children_per_woman_total_fertility\",\"Children per woman\")\n",
    "bgd_child_mortality = child_mortality.where(\"geo\", are.equal_to(\"bgd\")).drop(\"geo\").relabeled(\"child_mortality_under_5_per_1000_born\",\"Child deaths per 1000 born\")\n",
    "fertility_and_child_mortality = bgd_fertility.with_column(\"Child deaths per 1000 born\", bgd_child_mortality.column(\"Child deaths per 1000 born\"))\n",
    "post_1969_fertility_and_child_mortality = fertility_and_child_mortality.where(\"time\", are.above(1969))\n",
    "post_1969_fertility_and_child_mortality.scatter('Children per woman', 'Child deaths per 1000 born') # You should *not* change this line.\n"
   ]
  },
  {
   "cell_type": "code",
   "execution_count": 20,
   "metadata": {
    "deletable": false,
    "editable": false
   },
   "outputs": [
    {
     "name": "stdout",
     "output_type": "stream",
     "text": [
      "~~~~~~~~~~~~~~~~~~~~~~~~~~~~~~~~~~~~~~~~~~~~~~~~~~~~~~~~~~~~~~~~~~~~~\n",
      "Running tests\n",
      "\n",
      "---------------------------------------------------------------------\n",
      "Test summary\n",
      "    Passed: 2\n",
      "    Failed: 0\n",
      "[ooooooooook] 100.0% passed\n",
      "\n"
     ]
    }
   ],
   "source": [
    "_ = ok.grade('q1_7')"
   ]
  },
  {
   "cell_type": "markdown",
   "metadata": {
    "deletable": false,
    "editable": false
   },
   "source": [
    "**Question 8.** In one or two sentences, describe the association (if any) that is illustrated by this scatter diagram. Does the diagram show that reduced child mortality causes parents to choose to have fewer children?"
   ]
  },
  {
   "cell_type": "markdown",
   "metadata": {
    "deletable": false,
    "manual_grade": true,
    "manual_problem_id": "global_pop_8"
   },
   "source": [
    "There is a correlation between child deaths and children per woman. There is no proven causation, but there\n",
    "is a positive correlation."
   ]
  },
  {
   "cell_type": "markdown",
   "metadata": {
    "deletable": false,
    "editable": false
   },
   "source": [
    "### The World\n",
    "\n",
    "The change observed in Bangladesh since 1970 can also be observed in many other developing countries: health services improve, life expectancy increases, and child mortality decreases. At the same time, the fertility rate often plummets, and so the population growth rate decreases despite increasing longevity."
   ]
  },
  {
   "cell_type": "markdown",
   "metadata": {
    "deletable": false,
    "editable": false
   },
   "source": [
    "Run the cell below to generate two overlaid histograms, one for 1960 and one for 2010, that show the distributions of total fertility rates for these two years among all 201 countries in the `fertility` table."
   ]
  },
  {
   "cell_type": "code",
   "execution_count": 21,
   "metadata": {
    "deletable": false,
    "editable": false
   },
   "outputs": [
    {
     "data": {
      "image/png": "[encoded data removed]",
      "text/plain": [
       "<Figure size 432x288 with 1 Axes>"
      ]
     },
     "metadata": {},
     "output_type": "display_data"
    }
   ],
   "source": [
    "Table().with_columns(\n",
    "    '1960', fertility.where('time', 1960).column(2),\n",
    "    '2010', fertility.where('time', 2010).column(2)\n",
    ").hist(bins=np.arange(0, 10, 0.5), unit='child')\n",
    "_ = plots.xlabel('Children per woman')\n",
    "_ = plots.xticks(np.arange(10))"
   ]
  },
  {
   "cell_type": "code",
   "execution_count": 74,
   "metadata": {},
   "outputs": [
    {
     "data": {
      "text/plain": [
       "0.15736040609137056"
      ]
     },
     "execution_count": 74,
     "metadata": {},
     "output_type": "execute_result"
    }
   ],
   "source": [
    "14 * (29+1+40+41+23)\n",
    "14 * ((29+1+40+41+23)+12+8+8+13+10+4+5+2+1)\n",
    "\n",
    "(1876/2758)\n",
    "\n",
    "\n",
    "14 * (2+14+15)\n",
    "#14 * (1+14+16+5+10+5+9+5+23+31+43+25+9+1)\n",
    "\n",
    "(434/2758)"
   ]
  },
  {
   "cell_type": "markdown",
   "metadata": {
    "deletable": false,
    "editable": false
   },
   "source": [
    "**Question 9.** Assign `fertility_statements` to a list of the numbers of each statement below that can be correctly inferred from these histograms.\n",
    "1. About the same number of countries had a fertility rate between 3.5 and 4.5 in both 1960 and 2010.\n",
    "1. In 2010, about 40% of countries had a fertility rate between 1.5 and 2 (inclusive).\n",
    "1. In 1960, less than 20% of countries had a fertility rate below 3.\n",
    "1. More countries had a fertility rate above 3 in 1960 than in 2010.\n",
    "1. At least half of countries had a fertility rate between 5 and 8 (inclusive) in 1960.\n",
    "1. At least half of countries had a fertility rate below 3 in 2010."
   ]
  },
  {
   "cell_type": "code",
   "execution_count": 84,
   "metadata": {
    "deletable": false
   },
   "outputs": [
    {
     "data": {
      "text/plain": [
       "[1, 2, 4, 5, 6]"
      ]
     },
     "execution_count": 84,
     "metadata": {},
     "output_type": "execute_result"
    }
   ],
   "source": [
    "fertility_statements = [1, 2, 4, 5, 6]\n",
    "fertility_statements"
   ]
  },
  {
   "cell_type": "code",
   "execution_count": 23,
   "metadata": {
    "deletable": false,
    "editable": false
   },
   "outputs": [
    {
     "name": "stdout",
     "output_type": "stream",
     "text": [
      "~~~~~~~~~~~~~~~~~~~~~~~~~~~~~~~~~~~~~~~~~~~~~~~~~~~~~~~~~~~~~~~~~~~~~\n",
      "Running tests\n",
      "\n",
      "---------------------------------------------------------------------\n",
      "Test summary\n",
      "    Passed: 1\n",
      "    Failed: 0\n",
      "[ooooooooook] 100.0% passed\n",
      "\n"
     ]
    }
   ],
   "source": [
    "_ = ok.grade('q1_9')"
   ]
  },
  {
   "cell_type": "markdown",
   "metadata": {
    "deletable": false,
    "editable": false
   },
   "source": [
    "**Question 10.** Draw a line plot of the world population from 1800 through 2005. The world population is the sum of all the country's populations. "
   ]
  },
  {
   "cell_type": "code",
   "execution_count": 27,
   "metadata": {
    "deletable": false,
    "manual_grade": true,
    "manual_problem_id": "global_pop_10"
   },
   "outputs": [
    {
     "data": {
      "image/png": "[encoded data removed]",
      "text/plain": [
       "<Figure size 432x288 with 1 Axes>"
      ]
     },
     "metadata": {},
     "output_type": "display_data"
    }
   ],
   "source": [
    "def fancy_sum(arr):\n",
    "   better_array = arr.astype(np.float64)\n",
    "   return np.sum(better_array)\n",
    "\n",
    "\n",
    "country_population = population.drop(\"geo\").group(\"time\",fancy_sum).where(\"time\",are.between(1800,2006))\n",
    "country_population.plot(\"time\")\n"
   ]
  },
  {
   "cell_type": "markdown",
   "metadata": {
    "deletable": false,
    "editable": false
   },
   "source": [
    "**Question 11.** Create a function `stats_for_year` that takes a `year` and returns a table of statistics. The table it returns should have four columns: `geo`, `population_total`, `children_per_woman_total_fertility`, and `child_mortality_under_5_per_1000_born`. Each row should contain one Alpha-3 country code and three statistics: population, fertility rate, and child mortality for that `year` from the `population`, `fertility` and `child_mortality` tables. Only include rows for which all three statistics are available for the country and year.\n",
    "\n",
    "In addition, restrict the result to country codes that appears in `big_50`, an array of the 50 most populous countries in 2010. This restriction will speed up computations later in the project.\n",
    "\n",
    "*Hint*: The tests for this question are quite comprehensive, so if you pass the tests, your function is probably correct. However, without calling your function yourself and looking at the output, it will be very difficult to understand any problems you have, so try your best to write the function correctly and check that it works before you rely on the `ok` tests to confirm your work."
   ]
  },
  {
   "cell_type": "code",
   "execution_count": 28,
   "metadata": {
    "deletable": false
   },
   "outputs": [],
   "source": [
    "# We first create a population table that only includes the \n",
    "# 50 countries with the largest 2010 populations. We focus on \n",
    "# these 50 countries only so that plotting later will run faster.\n",
    "big_50 = population.where('time', 2010).sort(2, descending=True).take(np.arange(50)).column('geo')\n",
    "population_of_big_50 = population.where('time', are.above(1959)).where('geo', are.contained_in(big_50))\n",
    "\n",
    "\n",
    "\n",
    "\n",
    "def stats_for_year(year):\n",
    "    \"\"\"Return a table of the stats for each country that year.\"\"\"\n",
    "    p = population_of_big_50.where('time', year).drop('time')\n",
    "    f = fertility.where('time', year).drop('time').where('geo', are.contained_in(big_50))\n",
    "    c = child_mortality.where('time', year).drop('time').where('geo', are.contained_in(big_50))\n",
    "    combine1 = p.join(\"geo\", f, \"geo\")\n",
    "    combine2 = combine1.join('geo', c, 'geo')\n",
    "    return combine2\n",
    "\n",
    "    #Q11_table = Table().with_columns('population', p, 'fertility rates', f, 'child mortality', c)\n",
    "    #return Q11_table\n",
    "    \n",
    "    \n",
    "    \n",
    "    #return Table().with_columns(\"geo\", population.column(\"geo\"), \"Total Population\", population.column(\"population_total\"),\n",
    "     #                          \"Fertility Rate\", fertility.column(\"children_per_woman_total_fertility\"),\n",
    "      #                         \"Child mortality\", child_mortality.column(\"child_mortality_under_5_per_1000_born\"))"
   ]
  },
  {
   "cell_type": "code",
   "execution_count": 29,
   "metadata": {},
   "outputs": [
    {
     "data": {
      "text/html": [
       "<table border=\"1\" class=\"dataframe\">\n",
       "    <thead>\n",
       "        <tr>\n",
       "            <th>geo</th> <th>time</th> <th>population_total</th>\n",
       "        </tr>\n",
       "    </thead>\n",
       "    <tbody>\n",
       "        <tr>\n",
       "            <td>afg </td> <td>1960</td> <td>8994793         </td>\n",
       "        </tr>\n",
       "        <tr>\n",
       "            <td>afg </td> <td>1961</td> <td>9164945         </td>\n",
       "        </tr>\n",
       "        <tr>\n",
       "            <td>afg </td> <td>1962</td> <td>9343772         </td>\n",
       "        </tr>\n",
       "        <tr>\n",
       "            <td>afg </td> <td>1963</td> <td>9531555         </td>\n",
       "        </tr>\n",
       "        <tr>\n",
       "            <td>afg </td> <td>1964</td> <td>9728645         </td>\n",
       "        </tr>\n",
       "        <tr>\n",
       "            <td>afg </td> <td>1965</td> <td>9935358         </td>\n",
       "        </tr>\n",
       "        <tr>\n",
       "            <td>afg </td> <td>1966</td> <td>10148841        </td>\n",
       "        </tr>\n",
       "        <tr>\n",
       "            <td>afg </td> <td>1967</td> <td>10368600        </td>\n",
       "        </tr>\n",
       "        <tr>\n",
       "            <td>afg </td> <td>1968</td> <td>10599790        </td>\n",
       "        </tr>\n",
       "        <tr>\n",
       "            <td>afg </td> <td>1969</td> <td>10849510        </td>\n",
       "        </tr>\n",
       "    </tbody>\n",
       "</table>\n",
       "<p>... (7040 rows omitted)</p>"
      ],
      "text/plain": [
       "geo  | time | population_total\n",
       "afg  | 1960 | 8994793\n",
       "afg  | 1961 | 9164945\n",
       "afg  | 1962 | 9343772\n",
       "afg  | 1963 | 9531555\n",
       "afg  | 1964 | 9728645\n",
       "afg  | 1965 | 9935358\n",
       "afg  | 1966 | 10148841\n",
       "afg  | 1967 | 10368600\n",
       "afg  | 1968 | 10599790\n",
       "afg  | 1969 | 10849510\n",
       "... (7040 rows omitted)"
      ]
     },
     "execution_count": 29,
     "metadata": {},
     "output_type": "execute_result"
    }
   ],
   "source": [
    "#child_mortality.where(\"time\", are.between(1960, 2010)).where(\"Child_mortality_under_5_per_1000_born\" = float)\n",
    "population_of_big_50"
   ]
  },
  {
   "cell_type": "markdown",
   "metadata": {
    "deletable": false,
    "editable": false
   },
   "source": [
    "Try calling your function `stats_for_year` on any year between 1960 and 2010 in the cell below.  Try to understand the output of `stats_for_year`."
   ]
  },
  {
   "cell_type": "code",
   "execution_count": 30,
   "metadata": {},
   "outputs": [
    {
     "data": {
      "text/html": [
       "<table border=\"1\" class=\"dataframe\">\n",
       "    <thead>\n",
       "        <tr>\n",
       "            <th>geo</th> <th>population_total</th> <th>children_per_woman_total_fertility</th> <th>child_mortality_under_5_per_1000_born</th>\n",
       "        </tr>\n",
       "    </thead>\n",
       "    <tbody>\n",
       "        <tr>\n",
       "            <td>afg </td> <td>13222547        </td> <td>7.67                              </td> <td>261.6                                </td>\n",
       "        </tr>\n",
       "        <tr>\n",
       "            <td>arg </td> <td>27277742        </td> <td>3.39                              </td> <td>51.4                                 </td>\n",
       "        </tr>\n",
       "        <tr>\n",
       "            <td>bgd </td> <td>76948378        </td> <td>6.59                              </td> <td>207.4                                </td>\n",
       "        </tr>\n",
       "        <tr>\n",
       "            <td>bra </td> <td>116532153       </td> <td>4.26                              </td> <td>104.2                                </td>\n",
       "        </tr>\n",
       "        <tr>\n",
       "            <td>can </td> <td>23994948        </td> <td>1.7                               </td> <td>14.2                                 </td>\n",
       "        </tr>\n",
       "        <tr>\n",
       "            <td>chn </td> <td>950537317       </td> <td>2.74                              </td> <td>70                                   </td>\n",
       "        </tr>\n",
       "        <tr>\n",
       "            <td>cod </td> <td>24948113        </td> <td>6.49                              </td> <td>219                                  </td>\n",
       "        </tr>\n",
       "        <tr>\n",
       "            <td>col </td> <td>26502172        </td> <td>4.25                              </td> <td>65.5                                 </td>\n",
       "        </tr>\n",
       "        <tr>\n",
       "            <td>deu </td> <td>78426715        </td> <td>1.49                              </td> <td>17.1                                 </td>\n",
       "        </tr>\n",
       "        <tr>\n",
       "            <td>dza </td> <td>18212331        </td> <td>7.14                              </td> <td>173.9                                </td>\n",
       "        </tr>\n",
       "    </tbody>\n",
       "</table>\n",
       "<p>... (40 rows omitted)</p>"
      ],
      "text/plain": [
       "geo  | population_total | children_per_woman_total_fertility | child_mortality_under_5_per_1000_born\n",
       "afg  | 13222547         | 7.67                               | 261.6\n",
       "arg  | 27277742         | 3.39                               | 51.4\n",
       "bgd  | 76948378         | 6.59                               | 207.4\n",
       "bra  | 116532153        | 4.26                               | 104.2\n",
       "can  | 23994948         | 1.7                                | 14.2\n",
       "chn  | 950537317        | 2.74                               | 70\n",
       "cod  | 24948113         | 6.49                               | 219\n",
       "col  | 26502172         | 4.25                               | 65.5\n",
       "deu  | 78426715         | 1.49                               | 17.1\n",
       "dza  | 18212331         | 7.14                               | 173.9\n",
       "... (40 rows omitted)"
      ]
     },
     "execution_count": 30,
     "metadata": {},
     "output_type": "execute_result"
    }
   ],
   "source": [
    "stats_for_year(1978)"
   ]
  },
  {
   "cell_type": "code",
   "execution_count": 31,
   "metadata": {
    "deletable": false,
    "editable": false
   },
   "outputs": [
    {
     "name": "stdout",
     "output_type": "stream",
     "text": [
      "~~~~~~~~~~~~~~~~~~~~~~~~~~~~~~~~~~~~~~~~~~~~~~~~~~~~~~~~~~~~~~~~~~~~~\n",
      "Running tests\n",
      "\n",
      "---------------------------------------------------------------------\n",
      "Test summary\n",
      "    Passed: 4\n",
      "    Failed: 0\n",
      "[ooooooooook] 100.0% passed\n",
      "\n"
     ]
    }
   ],
   "source": [
    "_ = ok.grade('q1_11')"
   ]
  },
  {
   "cell_type": "markdown",
   "metadata": {
    "deletable": false,
    "editable": false
   },
   "source": [
    "**Question 12.** Create a table called `pop_by_decade` with two columns called `decade` and `population`. It has a row for each `year` since 1960 that starts a decade. The `population` column contains the total population of all countries included in the result of `stats_for_year(year)` for the first `year` of the decade. For example, 1960 is the first year of the 1960's decade. You should see that these countries contain most of the world's population.\n",
    "\n",
    "*Hint:* One approach is to define a function `pop_for_year` that computes this total population, then `apply` it to the `decade` column.  The `stats_for_year` function from the previous question may be useful here.\n",
    "\n",
    "**Note:** The `pop_by_decade` cell is directly below the cell containing the helper function `pop_for_year`. This is where you will generate the `pop_by_decade` table!"
   ]
  },
  {
   "cell_type": "code",
   "execution_count": 1,
   "metadata": {
    "scrolled": true
   },
   "outputs": [
    {
     "ename": "NameError",
     "evalue": "name 'fancy_sum' is not defined",
     "output_type": "error",
     "traceback": [
      "\u001b[1;31m---------------------------------------------------------------------------\u001b[0m",
      "\u001b[1;31mNameError\u001b[0m                                 Traceback (most recent call last)",
      "\u001b[1;32m<ipython-input-1-ff671306d98c>\u001b[0m in \u001b[0;36m<module>\u001b[1;34m\u001b[0m\n\u001b[1;32m----> 1\u001b[1;33m \u001b[0mfancy_sum\u001b[0m\u001b[1;33m(\u001b[0m\u001b[0mpopulation_of_big_50\u001b[0m\u001b[1;33m.\u001b[0m\u001b[0mwhere\u001b[0m\u001b[1;33m(\u001b[0m\u001b[1;34m'time'\u001b[0m\u001b[1;33m,\u001b[0m \u001b[0mare\u001b[0m\u001b[1;33m.\u001b[0m\u001b[0mequal_to\u001b[0m\u001b[1;33m(\u001b[0m\u001b[1;36m1972\u001b[0m\u001b[1;33m)\u001b[0m\u001b[1;33m)\u001b[0m\u001b[1;33m.\u001b[0m\u001b[0mcolumn\u001b[0m\u001b[1;33m(\u001b[0m\u001b[1;34m'population_total'\u001b[0m\u001b[1;33m)\u001b[0m\u001b[1;33m)\u001b[0m\u001b[1;33m\u001b[0m\u001b[1;33m\u001b[0m\u001b[0m\n\u001b[0m",
      "\u001b[1;31mNameError\u001b[0m: name 'fancy_sum' is not defined"
     ]
    }
   ],
   "source": [
    "fancy_sum(population_of_big_50.where('time', are.equal_to(1972)).column('population_total'))"
   ]
  },
  {
   "cell_type": "code",
   "execution_count": 2,
   "metadata": {},
   "outputs": [],
   "source": [
    "def pop_for_year(year):\n",
    "    return fancy_sum(stats_for_year(year).column('population_total'))\n"
   ]
  },
  {
   "cell_type": "markdown",
   "metadata": {
    "deletable": false,
    "editable": false
   },
   "source": [
    "This test is just a sanity check for your helper function if you choose to use it. You will not lose points for not implementing the function `pop_for_year`."
   ]
  },
  {
   "cell_type": "code",
   "execution_count": 34,
   "metadata": {},
   "outputs": [
    {
     "name": "stdout",
     "output_type": "stream",
     "text": [
      "~~~~~~~~~~~~~~~~~~~~~~~~~~~~~~~~~~~~~~~~~~~~~~~~~~~~~~~~~~~~~~~~~~~~~\n",
      "Running tests\n",
      "\n",
      "---------------------------------------------------------------------\n",
      "Test summary\n",
      "    Passed: 1\n",
      "    Failed: 0\n",
      "[ooooooooook] 100.0% passed\n",
      "\n"
     ]
    }
   ],
   "source": [
    "_ = ok.grade('q1_12_0')"
   ]
  },
  {
   "cell_type": "code",
   "execution_count": 35,
   "metadata": {
    "deletable": false
   },
   "outputs": [
    {
     "data": {
      "text/html": [
       "<table border=\"1\" class=\"dataframe\">\n",
       "    <thead>\n",
       "        <tr>\n",
       "            <th>decade</th> <th>population</th>\n",
       "        </tr>\n",
       "    </thead>\n",
       "    <tbody>\n",
       "        <tr>\n",
       "            <td>1960  </td> <td>2,624,944,597.00</td>\n",
       "        </tr>\n",
       "        <tr>\n",
       "            <td>1970  </td> <td>3,211,487,418.00</td>\n",
       "        </tr>\n",
       "        <tr>\n",
       "            <td>1980  </td> <td>3,880,722,003.00</td>\n",
       "        </tr>\n",
       "        <tr>\n",
       "            <td>1990  </td> <td>4,648,434,558.00</td>\n",
       "        </tr>\n",
       "        <tr>\n",
       "            <td>2000  </td> <td>5,367,553,063.00</td>\n",
       "        </tr>\n",
       "        <tr>\n",
       "            <td>2010  </td> <td>6,040,810,517.00</td>\n",
       "        </tr>\n",
       "    </tbody>\n",
       "</table>"
      ],
      "text/plain": [
       "decade | population\n",
       "1960   | 2,624,944,597.00\n",
       "1970   | 3,211,487,418.00\n",
       "1980   | 3,880,722,003.00\n",
       "1990   | 4,648,434,558.00\n",
       "2000   | 5,367,553,063.00\n",
       "2010   | 6,040,810,517.00"
      ]
     },
     "execution_count": 35,
     "metadata": {},
     "output_type": "execute_result"
    }
   ],
   "source": [
    "decades = Table().with_column('decade', np.arange(1960, 2011, 10))\n",
    "pop_by_decade = decades.with_column('population',decades.apply(pop_for_year))\n",
    "pop_by_decade.set_format(1, NumberFormatter)\n"
   ]
  },
  {
   "cell_type": "code",
   "execution_count": 36,
   "metadata": {},
   "outputs": [
    {
     "data": {
      "text/html": [
       "<table border=\"1\" class=\"dataframe\">\n",
       "    <thead>\n",
       "        <tr>\n",
       "            <th>geo</th> <th>population_total</th> <th>children_per_woman_total_fertility</th> <th>child_mortality_under_5_per_1000_born</th>\n",
       "        </tr>\n",
       "    </thead>\n",
       "    <tbody>\n",
       "        <tr>\n",
       "            <td>afg </td> <td>8994793         </td> <td>7.67                              </td> <td>362.4                                </td>\n",
       "        </tr>\n",
       "        <tr>\n",
       "            <td>arg </td> <td>20619075        </td> <td>3.11                              </td> <td>73.2                                 </td>\n",
       "        </tr>\n",
       "        <tr>\n",
       "            <td>bgd </td> <td>48200702        </td> <td>6.73                              </td> <td>264.3                                </td>\n",
       "        </tr>\n",
       "        <tr>\n",
       "            <td>bra </td> <td>72493585        </td> <td>6.21                              </td> <td>171.8                                </td>\n",
       "        </tr>\n",
       "        <tr>\n",
       "            <td>can </td> <td>17909232        </td> <td>3.91                              </td> <td>32.6                                 </td>\n",
       "        </tr>\n",
       "        <tr>\n",
       "            <td>chn </td> <td>644450173       </td> <td>3.99                              </td> <td>309                                  </td>\n",
       "        </tr>\n",
       "        <tr>\n",
       "            <td>cod </td> <td>15248246        </td> <td>6                                 </td> <td>266                                  </td>\n",
       "        </tr>\n",
       "        <tr>\n",
       "            <td>col </td> <td>16480384        </td> <td>6.81                              </td> <td>127.3                                </td>\n",
       "        </tr>\n",
       "        <tr>\n",
       "            <td>deu </td> <td>73179665        </td> <td>2.41                              </td> <td>42.87                                </td>\n",
       "        </tr>\n",
       "        <tr>\n",
       "            <td>dza </td> <td>11124892        </td> <td>7.65                              </td> <td>245.7                                </td>\n",
       "        </tr>\n",
       "    </tbody>\n",
       "</table>\n",
       "<p>... (40 rows omitted)</p>"
      ],
      "text/plain": [
       "geo  | population_total | children_per_woman_total_fertility | child_mortality_under_5_per_1000_born\n",
       "afg  | 8994793          | 7.67                               | 362.4\n",
       "arg  | 20619075         | 3.11                               | 73.2\n",
       "bgd  | 48200702         | 6.73                               | 264.3\n",
       "bra  | 72493585         | 6.21                               | 171.8\n",
       "can  | 17909232         | 3.91                               | 32.6\n",
       "chn  | 644450173        | 3.99                               | 309\n",
       "cod  | 15248246         | 6                                  | 266\n",
       "col  | 16480384         | 6.81                               | 127.3\n",
       "deu  | 73179665         | 2.41                               | 42.87\n",
       "dza  | 11124892         | 7.65                               | 245.7\n",
       "... (40 rows omitted)"
      ]
     },
     "execution_count": 36,
     "metadata": {},
     "output_type": "execute_result"
    }
   ],
   "source": [
    "stats_for_year(1960)"
   ]
  },
  {
   "cell_type": "code",
   "execution_count": 37,
   "metadata": {
    "deletable": false,
    "editable": false
   },
   "outputs": [
    {
     "name": "stdout",
     "output_type": "stream",
     "text": [
      "~~~~~~~~~~~~~~~~~~~~~~~~~~~~~~~~~~~~~~~~~~~~~~~~~~~~~~~~~~~~~~~~~~~~~\n",
      "Running tests\n",
      "\n",
      "---------------------------------------------------------------------\n",
      "Test summary\n",
      "    Passed: 2\n",
      "    Failed: 0\n",
      "[ooooooooook] 100.0% passed\n",
      "\n"
     ]
    }
   ],
   "source": [
    "_ = ok.grade('q1_12')"
   ]
  },
  {
   "cell_type": "markdown",
   "metadata": {
    "deletable": false,
    "editable": false
   },
   "source": [
    "The `countries` table describes various characteristics of countries. The `country` column contains the same codes as the `geo` column in each of the other data tables (`population`, `fertility`, and `child_mortality`). The `world_6region` column classifies each country into a region of the world. Run the cell below to inspect the data."
   ]
  },
  {
   "cell_type": "code",
   "execution_count": 38,
   "metadata": {
    "deletable": false,
    "editable": false
   },
   "outputs": [
    {
     "data": {
      "text/html": [
       "<table border=\"1\" class=\"dataframe\">\n",
       "    <thead>\n",
       "        <tr>\n",
       "            <th>country</th> <th>name</th> <th>world_6region</th>\n",
       "        </tr>\n",
       "    </thead>\n",
       "    <tbody>\n",
       "        <tr>\n",
       "            <td>afg      </td> <td>Afghanistan          </td> <td>south_asia              </td>\n",
       "        </tr>\n",
       "        <tr>\n",
       "            <td>akr_a_dhe</td> <td>Akrotiri and Dhekelia</td> <td>europe_central_asia     </td>\n",
       "        </tr>\n",
       "        <tr>\n",
       "            <td>alb      </td> <td>Albania              </td> <td>europe_central_asia     </td>\n",
       "        </tr>\n",
       "        <tr>\n",
       "            <td>dza      </td> <td>Algeria              </td> <td>middle_east_north_africa</td>\n",
       "        </tr>\n",
       "        <tr>\n",
       "            <td>asm      </td> <td>American Samoa       </td> <td>east_asia_pacific       </td>\n",
       "        </tr>\n",
       "        <tr>\n",
       "            <td>and      </td> <td>Andorra              </td> <td>europe_central_asia     </td>\n",
       "        </tr>\n",
       "        <tr>\n",
       "            <td>ago      </td> <td>Angola               </td> <td>sub_saharan_africa      </td>\n",
       "        </tr>\n",
       "        <tr>\n",
       "            <td>aia      </td> <td>Anguilla             </td> <td>america                 </td>\n",
       "        </tr>\n",
       "        <tr>\n",
       "            <td>atg      </td> <td>Antigua and Barbuda  </td> <td>america                 </td>\n",
       "        </tr>\n",
       "        <tr>\n",
       "            <td>arg      </td> <td>Argentina            </td> <td>america                 </td>\n",
       "        </tr>\n",
       "    </tbody>\n",
       "</table>\n",
       "<p>... (245 rows omitted)</p>"
      ],
      "text/plain": [
       "country   | name                  | world_6region\n",
       "afg       | Afghanistan           | south_asia\n",
       "akr_a_dhe | Akrotiri and Dhekelia | europe_central_asia\n",
       "alb       | Albania               | europe_central_asia\n",
       "dza       | Algeria               | middle_east_north_africa\n",
       "asm       | American Samoa        | east_asia_pacific\n",
       "and       | Andorra               | europe_central_asia\n",
       "ago       | Angola                | sub_saharan_africa\n",
       "aia       | Anguilla              | america\n",
       "atg       | Antigua and Barbuda   | america\n",
       "arg       | Argentina             | america\n",
       "... (245 rows omitted)"
      ]
     },
     "execution_count": 38,
     "metadata": {},
     "output_type": "execute_result"
    }
   ],
   "source": [
    "countries = Table.read_table('countries.csv').where('country', are.contained_in(population.group('geo').column(0)))\n",
    "countries.select('country', 'name', 'world_6region')"
   ]
  },
  {
   "cell_type": "markdown",
   "metadata": {
    "deletable": false,
    "editable": false
   },
   "source": [
    "**Question 13.** Create a table called `region_counts` that has two columns, `region` and `count`. It should describe the count of how many countries in each region appear in the result of `stats_for_year(1960)`. For example, one row would have `south_asia` as its `world_6region` value and an integer as its `count` value: the number of large South Asian countries for which we have population, fertility, and child mortality numbers from 1960."
   ]
  },
  {
   "cell_type": "code",
   "execution_count": 39,
   "metadata": {
    "deletable": false
   },
   "outputs": [
    {
     "data": {
      "text/html": [
       "<table border=\"1\" class=\"dataframe\">\n",
       "    <thead>\n",
       "        <tr>\n",
       "            <th>region</th> <th>count</th>\n",
       "        </tr>\n",
       "    </thead>\n",
       "    <tbody>\n",
       "        <tr>\n",
       "            <td>america                 </td> <td>8    </td>\n",
       "        </tr>\n",
       "        <tr>\n",
       "            <td>east_asia_pacific       </td> <td>10   </td>\n",
       "        </tr>\n",
       "        <tr>\n",
       "            <td>europe_central_asia     </td> <td>10   </td>\n",
       "        </tr>\n",
       "        <tr>\n",
       "            <td>middle_east_north_africa</td> <td>7    </td>\n",
       "        </tr>\n",
       "        <tr>\n",
       "            <td>south_asia              </td> <td>5    </td>\n",
       "        </tr>\n",
       "        <tr>\n",
       "            <td>sub_saharan_africa      </td> <td>10   </td>\n",
       "        </tr>\n",
       "    </tbody>\n",
       "</table>"
      ],
      "text/plain": [
       "region                   | count\n",
       "america                  | 8\n",
       "east_asia_pacific        | 10\n",
       "europe_central_asia      | 10\n",
       "middle_east_north_africa | 7\n",
       "south_asia               | 5\n",
       "sub_saharan_africa       | 10"
      ]
     },
     "execution_count": 39,
     "metadata": {},
     "output_type": "execute_result"
    }
   ],
   "source": [
    "region_counts = stats_for_year(1960).join(\n",
    "            'geo', countries, 'country').group(\n",
    "            'world_6region').relabel(\n",
    "            'world_6region', 'region')\n",
    "region_counts"
   ]
  },
  {
   "cell_type": "code",
   "execution_count": 40,
   "metadata": {
    "deletable": false,
    "editable": false
   },
   "outputs": [
    {
     "name": "stdout",
     "output_type": "stream",
     "text": [
      "~~~~~~~~~~~~~~~~~~~~~~~~~~~~~~~~~~~~~~~~~~~~~~~~~~~~~~~~~~~~~~~~~~~~~\n",
      "Running tests\n",
      "\n",
      "---------------------------------------------------------------------\n",
      "Test summary\n",
      "    Passed: 2\n",
      "    Failed: 0\n",
      "[ooooooooook] 100.0% passed\n",
      "\n"
     ]
    }
   ],
   "source": [
    "_ = ok.grade('q1_13')"
   ]
  },
  {
   "cell_type": "markdown",
   "metadata": {
    "deletable": false,
    "editable": false
   },
   "source": [
    "The following scatter diagram compares total fertility rate and child mortality rate for each country in 1960. The area of each dot represents the population of the country, and the color represents its region of the world. Run the cell. Do you think you can identify any of the dots?"
   ]
  },
  {
   "cell_type": "code",
   "execution_count": 41,
   "metadata": {
    "deletable": false
   },
   "outputs": [
    {
     "data": {
      "image/png": "[encoded data removed]",
      "text/plain": [
       "<Figure size 360x360 with 1 Axes>"
      ]
     },
     "metadata": {},
     "output_type": "display_data"
    }
   ],
   "source": [
    "from functools import lru_cache as cache\n",
    "\n",
    "# This cache annotation makes sure that if the same year\n",
    "# is passed as an argument twice, the work of computing\n",
    "# the result is only carried out once.\n",
    "@cache(None)\n",
    "def stats_relabeled(year):\n",
    "    \"\"\"Relabeled and cached version of stats_for_year.\"\"\"\n",
    "    return stats_for_year(year).relabeled(2, 'Children per woman').relabeled(3, 'Child deaths per 1000 born')\n",
    "\n",
    "def fertility_vs_child_mortality(year):\n",
    "    \"\"\"Draw a color scatter diagram comparing child mortality and fertility.\"\"\"\n",
    "    with_region = stats_relabeled(year).join('geo', countries.select('country', 'world_6region'), 'country')\n",
    "    with_region.scatter(2, 3, sizes=1, colors=4, s=500)\n",
    "    plots.xlim(0,10)\n",
    "    plots.ylim(-50, 500)\n",
    "    plots.title(year)\n",
    "\n",
    "fertility_vs_child_mortality(1960)"
   ]
  },
  {
   "cell_type": "markdown",
   "metadata": {
    "deletable": false,
    "editable": false
   },
   "source": [
    "**Question 14.** Assign `scatter_statements` to a list of the numbers of each statement below that can be inferred from this scatter diagram for 1960. \n",
    "1. The `europe_central_asia` region had the lowest child mortality rate.\n",
    "1. The lowest child mortality rate of any country was from an `east_asian_pacific` country.\n",
    "1. Most countries had a fertility rate above 5.\n",
    "1. There was an association between child mortality and fertility.\n",
    "1. The two largest countries by population also had the two highest child mortality rate."
   ]
  },
  {
   "cell_type": "code",
   "execution_count": 42,
   "metadata": {
    "deletable": false
   },
   "outputs": [],
   "source": [
    "scatter_statements = [1, 3, 4]"
   ]
  },
  {
   "cell_type": "code",
   "execution_count": 43,
   "metadata": {
    "deletable": false,
    "editable": false
   },
   "outputs": [
    {
     "name": "stdout",
     "output_type": "stream",
     "text": [
      "~~~~~~~~~~~~~~~~~~~~~~~~~~~~~~~~~~~~~~~~~~~~~~~~~~~~~~~~~~~~~~~~~~~~~\n",
      "Running tests\n",
      "\n",
      "---------------------------------------------------------------------\n",
      "Test summary\n",
      "    Passed: 1\n",
      "    Failed: 0\n",
      "[ooooooooook] 100.0% passed\n",
      "\n"
     ]
    }
   ],
   "source": [
    "_ = ok.grade('q1_14')"
   ]
  },
  {
   "cell_type": "markdown",
   "metadata": {
    "deletable": false
   },
   "source": [
    "The result of the cell below is interactive. Drag the slider to the right to see how countries have changed over time. You'll find that the great divide between so-called \"Western\" and \"developing\" countries that existed in the 1960's has nearly disappeared. This shift in fertility rates is the reason that the global population is expected to grow more slowly in the 21st century than it did in the 19th and 20th centuries.\n",
    "\n",
    "Also, if you get one, please ignore the warning message that's displayed here."
   ]
  },
  {
   "cell_type": "code",
   "execution_count": 3,
   "metadata": {
    "deletable": false,
    "scrolled": false
   },
   "outputs": [
    {
     "ename": "NameError",
     "evalue": "name 'Table' is not defined",
     "output_type": "error",
     "traceback": [
      "\u001b[1;31m---------------------------------------------------------------------------\u001b[0m",
      "\u001b[1;31mNameError\u001b[0m                                 Traceback (most recent call last)",
      "\u001b[1;32m<ipython-input-3-e88b3f8bf9dc>\u001b[0m in \u001b[0;36m<module>\u001b[1;34m\u001b[0m\n\u001b[0;32m      3\u001b[0m \u001b[1;31m# This part takes a few minutes to run because it\u001b[0m\u001b[1;33m\u001b[0m\u001b[1;33m\u001b[0m\u001b[1;33m\u001b[0m\u001b[0m\n\u001b[0;32m      4\u001b[0m \u001b[1;31m# computes 55 tables in advance: one for each year.\u001b[0m\u001b[1;33m\u001b[0m\u001b[1;33m\u001b[0m\u001b[1;33m\u001b[0m\u001b[0m\n\u001b[1;32m----> 5\u001b[1;33m \u001b[0mTable\u001b[0m\u001b[1;33m(\u001b[0m\u001b[1;33m)\u001b[0m\u001b[1;33m.\u001b[0m\u001b[0mwith_column\u001b[0m\u001b[1;33m(\u001b[0m\u001b[1;34m'Year'\u001b[0m\u001b[1;33m,\u001b[0m \u001b[0mnp\u001b[0m\u001b[1;33m.\u001b[0m\u001b[0marange\u001b[0m\u001b[1;33m(\u001b[0m\u001b[1;36m1960\u001b[0m\u001b[1;33m,\u001b[0m \u001b[1;36m2016\u001b[0m\u001b[1;33m)\u001b[0m\u001b[1;33m)\u001b[0m\u001b[1;33m.\u001b[0m\u001b[0mapply\u001b[0m\u001b[1;33m(\u001b[0m\u001b[0mstats_relabeled\u001b[0m\u001b[1;33m,\u001b[0m \u001b[1;34m'Year'\u001b[0m\u001b[1;33m)\u001b[0m\u001b[1;33m\u001b[0m\u001b[1;33m\u001b[0m\u001b[0m\n\u001b[0m\u001b[0;32m      6\u001b[0m \u001b[1;33m\u001b[0m\u001b[0m\n\u001b[0;32m      7\u001b[0m _ = widgets.interact(fertility_vs_child_mortality, \n",
      "\u001b[1;31mNameError\u001b[0m: name 'Table' is not defined"
     ]
    }
   ],
   "source": [
    "import ipywidgets as widgets\n",
    "\n",
    "# This part takes a few minutes to run because it \n",
    "# computes 55 tables in advance: one for each year.\n",
    "Table().with_column('Year', np.arange(1960, 2016)).apply(stats_relabeled, 'Year')\n",
    "\n",
    "_ = widgets.interact(fertility_vs_child_mortality, \n",
    "                     year=widgets.IntSlider(min=1960, max=2015, value=1960))"
   ]
  },
  {
   "cell_type": "markdown",
   "metadata": {
    "deletable": false,
    "editable": false
   },
   "source": [
    "Now is a great time to take a break and watch the same data presented by [Hans Rosling in a 2010 TEDx talk](https://www.gapminder.org/videos/reducing-child-mortality-a-moral-and-environmental-imperative) with smoother animation and witty commentary."
   ]
  },
  {
   "cell_type": "markdown",
   "metadata": {
    "deletable": false,
    "editable": false
   },
   "source": [
    "## 2. Global Poverty\n"
   ]
  },
  {
   "cell_type": "markdown",
   "metadata": {
    "deletable": false,
    "editable": false
   },
   "source": [
    "In 1800, 85% of the world's 1 billion people lived in *extreme poverty*, defined by the United Nations as \"a condition characterized by severe deprivation of basic human needs, including food, safe drinking water, sanitation facilities, health, shelter, education and information.\" A common measure of extreme poverty is a person living on less than \\$1.25 per day.\n",
    "\n",
    "In 2018, the proportion of people living in extreme poverty was estimated to be 8%. Although the world rate of extreme poverty has declined consistently for hundreds of years, the number of people living in extreme poverty is still over 600 million. The United Nations recently adopted an [ambitious goal](http://www.un.org/sustainabledevelopment/poverty/): \"By 2030, eradicate extreme poverty for all people everywhere.\"\n",
    "In this section, we will examine extreme poverty trends around the world."
   ]
  },
  {
   "cell_type": "markdown",
   "metadata": {
    "deletable": false,
    "editable": false
   },
   "source": [
    "First, load the population and poverty rate by country and year and the country descriptions. While the `population` table has values for every recent year for many countries, the `poverty` table only includes certain years for each country in which a measurement of the rate of extreme poverty was available."
   ]
  },
  {
   "cell_type": "code",
   "execution_count": 45,
   "metadata": {
    "deletable": false,
    "editable": false
   },
   "outputs": [
    {
     "data": {
      "text/html": [
       "<table border=\"1\" class=\"dataframe\">\n",
       "    <thead>\n",
       "        <tr>\n",
       "            <th>geo</th> <th>time</th> <th>extreme_poverty_percent_people_below_125_a_day</th>\n",
       "        </tr>\n",
       "    </thead>\n",
       "    <tbody>\n",
       "        <tr>\n",
       "            <td>alb </td> <td>1996</td> <td>0.2                                           </td>\n",
       "        </tr>\n",
       "        <tr>\n",
       "            <td>alb </td> <td>2002</td> <td>0.73                                          </td>\n",
       "        </tr>\n",
       "        <tr>\n",
       "            <td>alb </td> <td>2004</td> <td>0.53                                          </td>\n",
       "        </tr>\n",
       "    </tbody>\n",
       "</table>\n",
       "<p>... (1096 rows omitted)</p>"
      ],
      "text/plain": [
       "<IPython.core.display.HTML object>"
      ]
     },
     "metadata": {},
     "output_type": "display_data"
    }
   ],
   "source": [
    "population = Table.read_table('population.csv')\n",
    "countries = Table.read_table('countries.csv').where('country', are.contained_in(population.group('geo').column(0)))\n",
    "poverty = Table.read_table('poverty.csv')\n",
    "poverty.show(3)"
   ]
  },
  {
   "cell_type": "markdown",
   "metadata": {
    "deletable": false,
    "editable": false
   },
   "source": [
    "**Question 1.** Assign `latest_poverty` to a three-column table with one row for each country that appears in the `poverty` table. The first column should contain the 3-letter code for the country. The second column should contain the *most recent_poverty_total year* for which an extreme poverty rate is available for the country. The third column should contain the poverty rate in that year. **Do not change the last line, so that the labels of your table are set correctly.**\n",
    "\n",
    "*Hint*: think about how ```group``` works: it does a sequential search of the table (from top to bottom) and collects values in the array in the order in which they appear, and then applies a function to that array. The `first` function may be helpful, but you are not required to use it."
   ]
  },
  {
   "cell_type": "code",
   "execution_count": 46,
   "metadata": {
    "deletable": false
   },
   "outputs": [
    {
     "data": {
      "text/html": [
       "<table border=\"1\" class=\"dataframe\">\n",
       "    <thead>\n",
       "        <tr>\n",
       "            <th>geo</th> <th>time</th> <th>poverty_percent</th>\n",
       "        </tr>\n",
       "    </thead>\n",
       "    <tbody>\n",
       "        <tr>\n",
       "            <td>ago </td> <td>2009</td> <td>43.37          </td>\n",
       "        </tr>\n",
       "        <tr>\n",
       "            <td>alb </td> <td>2012</td> <td>0.46           </td>\n",
       "        </tr>\n",
       "        <tr>\n",
       "            <td>arg </td> <td>2011</td> <td>1.41           </td>\n",
       "        </tr>\n",
       "        <tr>\n",
       "            <td>arm </td> <td>2012</td> <td>1.75           </td>\n",
       "        </tr>\n",
       "        <tr>\n",
       "            <td>aus </td> <td>2003</td> <td>1.36           </td>\n",
       "        </tr>\n",
       "        <tr>\n",
       "            <td>aut </td> <td>2004</td> <td>0.34           </td>\n",
       "        </tr>\n",
       "        <tr>\n",
       "            <td>aze </td> <td>2008</td> <td>0.31           </td>\n",
       "        </tr>\n",
       "        <tr>\n",
       "            <td>bdi </td> <td>2006</td> <td>81.32          </td>\n",
       "        </tr>\n",
       "        <tr>\n",
       "            <td>bel </td> <td>2000</td> <td>0.5            </td>\n",
       "        </tr>\n",
       "        <tr>\n",
       "            <td>ben </td> <td>2012</td> <td>51.61          </td>\n",
       "        </tr>\n",
       "    </tbody>\n",
       "</table>\n",
       "<p>... (135 rows omitted)</p>"
      ],
      "text/plain": [
       "geo  | time | poverty_percent\n",
       "ago  | 2009 | 43.37\n",
       "alb  | 2012 | 0.46\n",
       "arg  | 2011 | 1.41\n",
       "arm  | 2012 | 1.75\n",
       "aus  | 2003 | 1.36\n",
       "aut  | 2004 | 0.34\n",
       "aze  | 2008 | 0.31\n",
       "bdi  | 2006 | 81.32\n",
       "bel  | 2000 | 0.5\n",
       "ben  | 2012 | 51.61\n",
       "... (135 rows omitted)"
      ]
     },
     "execution_count": 46,
     "metadata": {},
     "output_type": "execute_result"
    }
   ],
   "source": [
    "def first(values):\n",
    "    return values.item(0)\n",
    "poverty.where('geo', 'aus')\n",
    "                        \n",
    "latest_poverty = poverty.sort('time', descending = True).group('geo', first)\n",
    "                             \n",
    "                                                        \n",
    "                          \n",
    "latest_poverty.relabel(0, 'geo').relabel(1, 'time').relabel(2, 'poverty_percent') # You should *not* change this line."
   ]
  },
  {
   "cell_type": "code",
   "execution_count": 47,
   "metadata": {
    "deletable": false
   },
   "outputs": [
    {
     "name": "stdout",
     "output_type": "stream",
     "text": [
      "~~~~~~~~~~~~~~~~~~~~~~~~~~~~~~~~~~~~~~~~~~~~~~~~~~~~~~~~~~~~~~~~~~~~~\n",
      "Running tests\n",
      "\n",
      "---------------------------------------------------------------------\n",
      "Test summary\n",
      "    Passed: 2\n",
      "    Failed: 0\n",
      "[ooooooooook] 100.0% passed\n",
      "\n"
     ]
    }
   ],
   "source": [
    "_ = ok.grade('q2_1')"
   ]
  },
  {
   "cell_type": "markdown",
   "metadata": {
    "deletable": false,
    "editable": false
   },
   "source": [
    "**Question 2.** Using both `latest_poverty` and `population`, create a four-column table called `recent_poverty_total` with one row for each country in `latest_poverty`. The four columns should have the following labels and contents:\n",
    "1. `geo` contains the 3-letter country code,\n",
    "1. `poverty_percent` contains the most recent poverty percent,\n",
    "1. `population_total` contains the population of the country in 2010,\n",
    "1. `poverty_total` contains the number of people in poverty **rounded to the nearest integer**, based on the 2010 population and most recent poverty rate."
   ]
  },
  {
   "cell_type": "code",
   "execution_count": 48,
   "metadata": {
    "deletable": false
   },
   "outputs": [
    {
     "data": {
      "text/html": [
       "<table border=\"1\" class=\"dataframe\">\n",
       "    <thead>\n",
       "        <tr>\n",
       "            <th>geo</th> <th>poverty_percent</th> <th>population_total</th> <th>poverty_total</th>\n",
       "        </tr>\n",
       "    </thead>\n",
       "    <tbody>\n",
       "        <tr>\n",
       "            <td>ago </td> <td>43.37          </td> <td>21219954        </td> <td>9.20309e+06  </td>\n",
       "        </tr>\n",
       "        <tr>\n",
       "            <td>alb </td> <td>0.46           </td> <td>2901883         </td> <td>13349        </td>\n",
       "        </tr>\n",
       "        <tr>\n",
       "            <td>arg </td> <td>1.41           </td> <td>41222875        </td> <td>581243       </td>\n",
       "        </tr>\n",
       "        <tr>\n",
       "            <td>arm </td> <td>1.75           </td> <td>2963496         </td> <td>51861        </td>\n",
       "        </tr>\n",
       "        <tr>\n",
       "            <td>aus </td> <td>1.36           </td> <td>22162863        </td> <td>301415       </td>\n",
       "        </tr>\n",
       "        <tr>\n",
       "            <td>aut </td> <td>0.34           </td> <td>8391986         </td> <td>28533        </td>\n",
       "        </tr>\n",
       "        <tr>\n",
       "            <td>aze </td> <td>0.31           </td> <td>9099893         </td> <td>28210        </td>\n",
       "        </tr>\n",
       "        <tr>\n",
       "            <td>bdi </td> <td>81.32          </td> <td>9461117         </td> <td>7.69378e+06  </td>\n",
       "        </tr>\n",
       "        <tr>\n",
       "            <td>bel </td> <td>0.5            </td> <td>10929978        </td> <td>54650        </td>\n",
       "        </tr>\n",
       "        <tr>\n",
       "            <td>ben </td> <td>51.61          </td> <td>9509798         </td> <td>4.90801e+06  </td>\n",
       "        </tr>\n",
       "    </tbody>\n",
       "</table>\n",
       "<p>... (135 rows omitted)</p>"
      ],
      "text/plain": [
       "geo  | poverty_percent | population_total | poverty_total\n",
       "ago  | 43.37           | 21219954         | 9.20309e+06\n",
       "alb  | 0.46            | 2901883          | 13349\n",
       "arg  | 1.41            | 41222875         | 581243\n",
       "arm  | 1.75            | 2963496          | 51861\n",
       "aus  | 1.36            | 22162863         | 301415\n",
       "aut  | 0.34            | 8391986          | 28533\n",
       "aze  | 0.31            | 9099893          | 28210\n",
       "bdi  | 81.32           | 9461117          | 7.69378e+06\n",
       "bel  | 0.5             | 10929978         | 54650\n",
       "ben  | 51.61           | 9509798          | 4.90801e+06\n",
       "... (135 rows omitted)"
      ]
     },
     "execution_count": 48,
     "metadata": {},
     "output_type": "execute_result"
    }
   ],
   "source": [
    "geo = latest_poverty.column('geo')\n",
    "poverty_percent = latest_poverty.column('poverty_percent')\n",
    "population_total = population.where('time', are.equal_to(2010)\n",
    "                                   ).where('geo', are.contained_in(geo)\n",
    "                                          ).column(\"population_total\")\n",
    "\n",
    "poverty_total = np.round(poverty_percent * population_total *.01)\n",
    "recent_poverty_total = Table().with_columns('geo', geo,\n",
    "                                           'poverty_percent', poverty_percent,\n",
    "                                           'population_total', population_total,\n",
    "                                           'poverty_total', poverty_total)\n",
    "recent_poverty_total"
   ]
  },
  {
   "cell_type": "code",
   "execution_count": 49,
   "metadata": {
    "deletable": false,
    "editable": false
   },
   "outputs": [
    {
     "name": "stdout",
     "output_type": "stream",
     "text": [
      "~~~~~~~~~~~~~~~~~~~~~~~~~~~~~~~~~~~~~~~~~~~~~~~~~~~~~~~~~~~~~~~~~~~~~\n",
      "Running tests\n",
      "\n",
      "---------------------------------------------------------------------\n",
      "Test summary\n",
      "    Passed: 3\n",
      "    Failed: 0\n",
      "[ooooooooook] 100.0% passed\n",
      "\n"
     ]
    }
   ],
   "source": [
    "_ = ok.grade('q2_2')"
   ]
  },
  {
   "cell_type": "markdown",
   "metadata": {
    "deletable": false,
    "editable": false
   },
   "source": [
    "**Question 3.** Assuming that the `poverty_total` numbers in the `recent_poverty_total` table describe *all* people in 2010 living in extreme poverty, assign the name `poverty_percent` to the percentage of the world's 2010 population that were living in extreme poverty. You should find a number that is above the 2018 global estimate of 8%, since many country-specific poverty rates are older than 2018.\n",
    "\n",
    "*Hint*: The sum of the `population_total` column in the `recent_poverty_total` table is not the world population, because only a subset of the world's countries have known poverty rates. Use the `population` table to compute the world's 2010 total population."
   ]
  },
  {
   "cell_type": "code",
   "execution_count": 50,
   "metadata": {
    "deletable": false
   },
   "outputs": [
    {
     "data": {
      "text/plain": [
       "14.299370218520854"
      ]
     },
     "execution_count": 50,
     "metadata": {},
     "output_type": "execute_result"
    }
   ],
   "source": [
    "population_total = fancy_sum(population.where('time',2010).column(\"population_total\"))\n",
    "poverty_total = fancy_sum(recent_poverty_total.column(\"poverty_total\"))\n",
    "poverty_percent = (poverty_total/population_total)*100\n",
    "poverty_percent\n"
   ]
  },
  {
   "cell_type": "code",
   "execution_count": 51,
   "metadata": {
    "deletable": false,
    "editable": false
   },
   "outputs": [
    {
     "name": "stdout",
     "output_type": "stream",
     "text": [
      "~~~~~~~~~~~~~~~~~~~~~~~~~~~~~~~~~~~~~~~~~~~~~~~~~~~~~~~~~~~~~~~~~~~~~\n",
      "Running tests\n",
      "\n",
      "---------------------------------------------------------------------\n",
      "Test summary\n",
      "    Passed: 1\n",
      "    Failed: 0\n",
      "[ooooooooook] 100.0% passed\n",
      "\n"
     ]
    }
   ],
   "source": [
    "_ = ok.grade('q2_3')"
   ]
  },
  {
   "cell_type": "markdown",
   "metadata": {
    "deletable": false,
    "editable": false
   },
   "source": [
    "The `countries` table includes not only the name and region of countries, but also their positions on the globe."
   ]
  },
  {
   "cell_type": "code",
   "execution_count": 52,
   "metadata": {
    "deletable": false,
    "editable": false
   },
   "outputs": [
    {
     "data": {
      "text/html": [
       "<table border=\"1\" class=\"dataframe\">\n",
       "    <thead>\n",
       "        <tr>\n",
       "            <th>country</th> <th>name</th> <th>world_4region</th> <th>latitude</th> <th>longitude</th>\n",
       "        </tr>\n",
       "    </thead>\n",
       "    <tbody>\n",
       "        <tr>\n",
       "            <td>afg      </td> <td>Afghanistan          </td> <td>asia         </td> <td>33      </td> <td>66       </td>\n",
       "        </tr>\n",
       "        <tr>\n",
       "            <td>akr_a_dhe</td> <td>Akrotiri and Dhekelia</td> <td>europe       </td> <td>nan     </td> <td>nan      </td>\n",
       "        </tr>\n",
       "        <tr>\n",
       "            <td>alb      </td> <td>Albania              </td> <td>europe       </td> <td>41      </td> <td>20       </td>\n",
       "        </tr>\n",
       "        <tr>\n",
       "            <td>dza      </td> <td>Algeria              </td> <td>africa       </td> <td>28      </td> <td>3        </td>\n",
       "        </tr>\n",
       "        <tr>\n",
       "            <td>asm      </td> <td>American Samoa       </td> <td>asia         </td> <td>-11.056 </td> <td>-171.082 </td>\n",
       "        </tr>\n",
       "        <tr>\n",
       "            <td>and      </td> <td>Andorra              </td> <td>europe       </td> <td>42.5078 </td> <td>1.52109  </td>\n",
       "        </tr>\n",
       "        <tr>\n",
       "            <td>ago      </td> <td>Angola               </td> <td>africa       </td> <td>-12.5   </td> <td>18.5     </td>\n",
       "        </tr>\n",
       "        <tr>\n",
       "            <td>aia      </td> <td>Anguilla             </td> <td>americas     </td> <td>18.2167 </td> <td>-63.05   </td>\n",
       "        </tr>\n",
       "        <tr>\n",
       "            <td>atg      </td> <td>Antigua and Barbuda  </td> <td>americas     </td> <td>17.05   </td> <td>-61.8    </td>\n",
       "        </tr>\n",
       "        <tr>\n",
       "            <td>arg      </td> <td>Argentina            </td> <td>americas     </td> <td>-34     </td> <td>-64      </td>\n",
       "        </tr>\n",
       "    </tbody>\n",
       "</table>\n",
       "<p>... (245 rows omitted)</p>"
      ],
      "text/plain": [
       "country   | name                  | world_4region | latitude | longitude\n",
       "afg       | Afghanistan           | asia          | 33       | 66\n",
       "akr_a_dhe | Akrotiri and Dhekelia | europe        | nan      | nan\n",
       "alb       | Albania               | europe        | 41       | 20\n",
       "dza       | Algeria               | africa        | 28       | 3\n",
       "asm       | American Samoa        | asia          | -11.056  | -171.082\n",
       "and       | Andorra               | europe        | 42.5078  | 1.52109\n",
       "ago       | Angola                | africa        | -12.5    | 18.5\n",
       "aia       | Anguilla              | americas      | 18.2167  | -63.05\n",
       "atg       | Antigua and Barbuda   | americas      | 17.05    | -61.8\n",
       "arg       | Argentina             | americas      | -34      | -64\n",
       "... (245 rows omitted)"
      ]
     },
     "execution_count": 52,
     "metadata": {},
     "output_type": "execute_result"
    }
   ],
   "source": [
    "countries.select('country', 'name', 'world_4region', 'latitude', 'longitude')"
   ]
  },
  {
   "cell_type": "code",
   "execution_count": 53,
   "metadata": {},
   "outputs": [
    {
     "data": {
      "text/html": [
       "<table border=\"1\" class=\"dataframe\">\n",
       "    <thead>\n",
       "        <tr>\n",
       "            <th>geo</th> <th>poverty_percent</th> <th>population_total</th> <th>poverty_total</th>\n",
       "        </tr>\n",
       "    </thead>\n",
       "    <tbody>\n",
       "        <tr>\n",
       "            <td>ago </td> <td>43.37          </td> <td>21219954        </td> <td>9.20309e+06  </td>\n",
       "        </tr>\n",
       "        <tr>\n",
       "            <td>alb </td> <td>0.46           </td> <td>2901883         </td> <td>13349        </td>\n",
       "        </tr>\n",
       "        <tr>\n",
       "            <td>arg </td> <td>1.41           </td> <td>41222875        </td> <td>581243       </td>\n",
       "        </tr>\n",
       "        <tr>\n",
       "            <td>arm </td> <td>1.75           </td> <td>2963496         </td> <td>51861        </td>\n",
       "        </tr>\n",
       "        <tr>\n",
       "            <td>aus </td> <td>1.36           </td> <td>22162863        </td> <td>301415       </td>\n",
       "        </tr>\n",
       "        <tr>\n",
       "            <td>aut </td> <td>0.34           </td> <td>8391986         </td> <td>28533        </td>\n",
       "        </tr>\n",
       "        <tr>\n",
       "            <td>aze </td> <td>0.31           </td> <td>9099893         </td> <td>28210        </td>\n",
       "        </tr>\n",
       "        <tr>\n",
       "            <td>bdi </td> <td>81.32          </td> <td>9461117         </td> <td>7.69378e+06  </td>\n",
       "        </tr>\n",
       "        <tr>\n",
       "            <td>bel </td> <td>0.5            </td> <td>10929978        </td> <td>54650        </td>\n",
       "        </tr>\n",
       "        <tr>\n",
       "            <td>ben </td> <td>51.61          </td> <td>9509798         </td> <td>4.90801e+06  </td>\n",
       "        </tr>\n",
       "    </tbody>\n",
       "</table>\n",
       "<p>... (135 rows omitted)</p>"
      ],
      "text/plain": [
       "geo  | poverty_percent | population_total | poverty_total\n",
       "ago  | 43.37           | 21219954         | 9.20309e+06\n",
       "alb  | 0.46            | 2901883          | 13349\n",
       "arg  | 1.41            | 41222875         | 581243\n",
       "arm  | 1.75            | 2963496          | 51861\n",
       "aus  | 1.36            | 22162863         | 301415\n",
       "aut  | 0.34            | 8391986          | 28533\n",
       "aze  | 0.31            | 9099893          | 28210\n",
       "bdi  | 81.32           | 9461117          | 7.69378e+06\n",
       "bel  | 0.5             | 10929978         | 54650\n",
       "ben  | 51.61           | 9509798          | 4.90801e+06\n",
       "... (135 rows omitted)"
      ]
     },
     "execution_count": 53,
     "metadata": {},
     "output_type": "execute_result"
    }
   ],
   "source": [
    "recent_poverty_total"
   ]
  },
  {
   "cell_type": "markdown",
   "metadata": {
    "deletable": false,
    "editable": false
   },
   "source": [
    "**Question 4.** Using both `countries` and `recent_poverty_total`, create a five-column table called `poverty_map` with one row for every country in `recent_poverty_total`.  The four columns should have the following labels and contents:\n",
    "1. `latitude` contains the country's latitude,\n",
    "1. `longitude` contains the country's longitude,\n",
    "1. `name` contains the country's name,\n",
    "1. `region` contains the country's region from the `world_4region` column of `countries`,\n",
    "1. `poverty_total` contains the country's poverty total."
   ]
  },
  {
   "cell_type": "code",
   "execution_count": 54,
   "metadata": {
    "deletable": false
   },
   "outputs": [
    {
     "data": {
      "text/html": [
       "<table border=\"1\" class=\"dataframe\">\n",
       "    <thead>\n",
       "        <tr>\n",
       "            <th>latitude</th> <th>longitude</th> <th>name</th> <th>region</th> <th>poverty_total</th>\n",
       "        </tr>\n",
       "    </thead>\n",
       "    <tbody>\n",
       "        <tr>\n",
       "            <td>-12.5   </td> <td>18.5     </td> <td>Angola    </td> <td>africa  </td> <td>9.20309e+06  </td>\n",
       "        </tr>\n",
       "        <tr>\n",
       "            <td>41      </td> <td>20       </td> <td>Albania   </td> <td>europe  </td> <td>13349        </td>\n",
       "        </tr>\n",
       "        <tr>\n",
       "            <td>-34     </td> <td>-64      </td> <td>Argentina </td> <td>americas</td> <td>581243       </td>\n",
       "        </tr>\n",
       "        <tr>\n",
       "            <td>40.25   </td> <td>45       </td> <td>Armenia   </td> <td>europe  </td> <td>51861        </td>\n",
       "        </tr>\n",
       "        <tr>\n",
       "            <td>-25     </td> <td>135      </td> <td>Australia </td> <td>asia    </td> <td>301415       </td>\n",
       "        </tr>\n",
       "        <tr>\n",
       "            <td>47.3333 </td> <td>13.3333  </td> <td>Austria   </td> <td>europe  </td> <td>28533        </td>\n",
       "        </tr>\n",
       "        <tr>\n",
       "            <td>40.5    </td> <td>47.5     </td> <td>Azerbaijan</td> <td>europe  </td> <td>28210        </td>\n",
       "        </tr>\n",
       "        <tr>\n",
       "            <td>-3.5    </td> <td>30       </td> <td>Burundi   </td> <td>africa  </td> <td>7.69378e+06  </td>\n",
       "        </tr>\n",
       "        <tr>\n",
       "            <td>50.75   </td> <td>4.5      </td> <td>Belgium   </td> <td>europe  </td> <td>54650        </td>\n",
       "        </tr>\n",
       "        <tr>\n",
       "            <td>9.5     </td> <td>2.25     </td> <td>Benin     </td> <td>africa  </td> <td>4.90801e+06  </td>\n",
       "        </tr>\n",
       "    </tbody>\n",
       "</table>\n",
       "<p>... (135 rows omitted)</p>"
      ],
      "text/plain": [
       "latitude | longitude | name       | region   | poverty_total\n",
       "-12.5    | 18.5      | Angola     | africa   | 9.20309e+06\n",
       "41       | 20        | Albania    | europe   | 13349\n",
       "-34      | -64       | Argentina  | americas | 581243\n",
       "40.25    | 45        | Armenia    | europe   | 51861\n",
       "-25      | 135       | Australia  | asia     | 301415\n",
       "47.3333  | 13.3333   | Austria    | europe   | 28533\n",
       "40.5     | 47.5      | Azerbaijan | europe   | 28210\n",
       "-3.5     | 30        | Burundi    | africa   | 7.69378e+06\n",
       "50.75    | 4.5       | Belgium    | europe   | 54650\n",
       "9.5      | 2.25      | Benin      | africa   | 4.90801e+06\n",
       "... (135 rows omitted)"
      ]
     },
     "execution_count": 54,
     "metadata": {},
     "output_type": "execute_result"
    }
   ],
   "source": [
    "poverty_countries = recent_poverty_total.column('geo')\n",
    "poverty_countries_new = countries.where('country', are.contained_in(poverty_countries)).sort('country').select('country', 'name', 'world_4region', 'latitude', 'longitude')\n",
    "poverty_total = recent_poverty_total.column(\"poverty_total\")\n",
    "\n",
    "poverty_map = Table().with_columns('latitude', poverty_countries_new.column('latitude'),\n",
    "                                  'longitude', poverty_countries_new.column('longitude'),\n",
    "                                  'name', poverty_countries_new.column('name'),\n",
    "                                  'region', poverty_countries_new.column('world_4region'),\n",
    "                                  'poverty_total', recent_poverty_total.column(\"poverty_total\"))\n",
    "\n",
    "\n",
    "poverty_map"
   ]
  },
  {
   "cell_type": "code",
   "execution_count": 55,
   "metadata": {
    "deletable": false,
    "editable": false,
    "scrolled": false
   },
   "outputs": [
    {
     "name": "stdout",
     "output_type": "stream",
     "text": [
      "~~~~~~~~~~~~~~~~~~~~~~~~~~~~~~~~~~~~~~~~~~~~~~~~~~~~~~~~~~~~~~~~~~~~~\n",
      "Running tests\n",
      "\n",
      "---------------------------------------------------------------------\n",
      "Test summary\n",
      "    Passed: 2\n",
      "    Failed: 0\n",
      "[ooooooooook] 100.0% passed\n",
      "\n"
     ]
    }
   ],
   "source": [
    "_ = ok.grade('q2_4')"
   ]
  },
  {
   "cell_type": "markdown",
   "metadata": {
    "deletable": false,
    "editable": false
   },
   "source": [
    "Run the cell below to draw a map of the world in which the areas of circles represent the number of people living in extreme poverty. Double-click on the map to zoom in."
   ]
  },
  {
   "cell_type": "code",
   "execution_count": 56,
   "metadata": {
    "deletable": false,
    "editable": false
   },
   "outputs": [
    {
     "data": {
      "text/html": [
       "<div style=\"width:100%;\"><div style=\"position:relative;width:100%;height:0;padding-bottom:60%;\"><iframe src=\"data:text/html;charset=utf-8;base64,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\" style=\"position:absolute;width:100%;height:100%;left:0;top:0;border:none !important;\" allowfullscreen webkitallowfullscreen mozallowfullscreen></iframe></div></div>"
      ],
      "text/plain": [
       "<datascience.maps.Map at 0x1cf0b5e3b00>"
      ]
     },
     "execution_count": 56,
     "metadata": {},
     "output_type": "execute_result"
    }
   ],
   "source": [
    "# It may take a few seconds to generate this map.\n",
    "colors = {'africa': 'blue', 'europe': 'black', 'asia': 'red', 'americas': 'green'}\n",
    "scaled = poverty_map.with_columns(\n",
    "    'poverty_total', 2e4 * poverty_map.column('poverty_total'),\n",
    "    'region', poverty_map.apply(colors.get, 'region')\n",
    ")\n",
    "Circle.map_table(scaled)"
   ]
  },
  {
   "cell_type": "markdown",
   "metadata": {
    "deletable": false,
    "editable": false
   },
   "source": [
    "Although people live in extreme poverty throughout the world (with more than 5 million in the United States), the largest numbers are in Asia and Africa."
   ]
  },
  {
   "cell_type": "markdown",
   "metadata": {
    "deletable": false,
    "editable": false
   },
   "source": [
    "**Question 5.** Assign `largest` to a two-column table with the `name` (not the 3-letter code) and `poverty_total` of the 10 countries with the largest number of people living in extreme poverty."
   ]
  },
  {
   "cell_type": "code",
   "execution_count": 57,
   "metadata": {
    "deletable": false
   },
   "outputs": [
    {
     "data": {
      "text/html": [
       "<table border=\"1\" class=\"dataframe\">\n",
       "    <thead>\n",
       "        <tr>\n",
       "            <th>name</th> <th>poverty_total</th>\n",
       "        </tr>\n",
       "    </thead>\n",
       "    <tbody>\n",
       "        <tr>\n",
       "            <td>India           </td> <td>2.90882e+08  </td>\n",
       "        </tr>\n",
       "        <tr>\n",
       "            <td>Nigeria         </td> <td>9.88912e+07  </td>\n",
       "        </tr>\n",
       "        <tr>\n",
       "            <td>China           </td> <td>8.39446e+07  </td>\n",
       "        </tr>\n",
       "        <tr>\n",
       "            <td>Bangladesh      </td> <td>6.55743e+07  </td>\n",
       "        </tr>\n",
       "        <tr>\n",
       "            <td>Congo, Dem. Rep.</td> <td>5.78414e+07  </td>\n",
       "        </tr>\n",
       "        <tr>\n",
       "            <td>Indonesia       </td> <td>3.91413e+07  </td>\n",
       "        </tr>\n",
       "        <tr>\n",
       "            <td>Ethiopia        </td> <td>3.2214e+07   </td>\n",
       "        </tr>\n",
       "        <tr>\n",
       "            <td>Pakistan        </td> <td>2.16636e+07  </td>\n",
       "        </tr>\n",
       "        <tr>\n",
       "            <td>Tanzania        </td> <td>1.9848e+07   </td>\n",
       "        </tr>\n",
       "        <tr>\n",
       "            <td>Madagascar      </td> <td>1.84804e+07  </td>\n",
       "        </tr>\n",
       "    </tbody>\n",
       "</table>"
      ],
      "text/plain": [
       "name             | poverty_total\n",
       "India            | 2.90882e+08\n",
       "Nigeria          | 9.88912e+07\n",
       "China            | 8.39446e+07\n",
       "Bangladesh       | 6.55743e+07\n",
       "Congo, Dem. Rep. | 5.78414e+07\n",
       "Indonesia        | 3.91413e+07\n",
       "Ethiopia         | 3.2214e+07\n",
       "Pakistan         | 2.16636e+07\n",
       "Tanzania         | 1.9848e+07\n",
       "Madagascar       | 1.84804e+07"
      ]
     },
     "execution_count": 57,
     "metadata": {},
     "output_type": "execute_result"
    }
   ],
   "source": [
    "largest = poverty_map.select('name', 'poverty_total').sort('poverty_total', descending = True).take(np.arange(0,10))\n",
    "\n",
    "largest"
   ]
  },
  {
   "cell_type": "code",
   "execution_count": 58,
   "metadata": {
    "deletable": false,
    "editable": false
   },
   "outputs": [
    {
     "name": "stdout",
     "output_type": "stream",
     "text": [
      "~~~~~~~~~~~~~~~~~~~~~~~~~~~~~~~~~~~~~~~~~~~~~~~~~~~~~~~~~~~~~~~~~~~~~\n",
      "Running tests\n",
      "\n",
      "---------------------------------------------------------------------\n",
      "Test summary\n",
      "    Passed: 3\n",
      "    Failed: 0\n",
      "[ooooooooook] 100.0% passed\n",
      "\n"
     ]
    }
   ],
   "source": [
    "_ = ok.grade('q2_5')"
   ]
  },
  {
   "cell_type": "markdown",
   "metadata": {
    "deletable": false
   },
   "source": [
    "**Question 6.** Write a function called `poverty_timeline` that takes **the name of a country** as its argument. It should draw a line plot of the number of people living in poverty in that country with time on the horizontal axis. The line plot should have a point for each row in the `poverty` table for that country. To compute the population living in poverty from a poverty percentage, multiply by the population of the country **in that year**.\n",
    "\n",
    "*Hint*: The names within the `poverty_timeline` function correspond to our staff solution, but you don't need to use them. Any way that you want to draw the plot is fine, as long as it generates the correct graph.\n",
    "\n",
    "*Hint*: For the `apply` method, if you don't specify a particular column to apply your function on, the whole row is used as an input to the function. Elements inside a row can be accessed using `.item`.\n",
    "\n",
    "*Hint:* This question is long. Feel free to create cells and experiment. "
   ]
  },
  {
   "cell_type": "code",
   "execution_count": 59,
   "metadata": {
    "scrolled": true
   },
   "outputs": [
    {
     "data": {
      "text/html": [
       "<table border=\"1\" class=\"dataframe\">\n",
       "    <thead>\n",
       "        <tr>\n",
       "            <th>geo</th> <th>time</th> <th>extreme_poverty_percent_people_below_125_a_day</th>\n",
       "        </tr>\n",
       "    </thead>\n",
       "    <tbody>\n",
       "        <tr>\n",
       "            <td>alb </td> <td>1996</td> <td>0.2                                           </td>\n",
       "        </tr>\n",
       "        <tr>\n",
       "            <td>alb </td> <td>2002</td> <td>0.73                                          </td>\n",
       "        </tr>\n",
       "        <tr>\n",
       "            <td>alb </td> <td>2004</td> <td>0.53                                          </td>\n",
       "        </tr>\n",
       "    </tbody>\n",
       "</table>\n",
       "<p>... (1096 rows omitted)</p>"
      ],
      "text/plain": [
       "<IPython.core.display.HTML object>"
      ]
     },
     "metadata": {},
     "output_type": "display_data"
    }
   ],
   "source": [
    "poverty.show(3)"
   ]
  },
  {
   "cell_type": "code",
   "execution_count": 63,
   "metadata": {},
   "outputs": [],
   "source": [
    "#population.where('geo', row_of_poverty_table.item('geo')\n",
    " #               ).where('time', row_of_poverty_table.item('time')\n",
    "  #              ).column('population_total').item(0)"
   ]
  },
  {
   "cell_type": "code",
   "execution_count": 77,
   "metadata": {
    "deletable": false,
    "manual_grade": true,
    "manual_problem_id": "global_poverty_6"
   },
   "outputs": [],
   "source": [
    "def poverty_timeline(country):\n",
    "    the_country = countries.select(\"name\",\"country\")\n",
    "    geo_to_country = (the_country.where(\"name\", are.equal_to(country))).column(\"country\")\n",
    "    the_poverty = poverty.where(\"geo\", are.equal_to(geo_to_country))\n",
    "    total_populations = the_poverty.apply(pop_for_year, \"time\")\n",
    "    the_poverty2 = the_poverty.with_column(\"populations\", total_populations)\n",
    "    poverty_populations = (the_poverty2.column(\"extreme_poverty_percent_people_below_125_a_day\") / 100)*total_populations\n",
    "    the_poverty3 = the_poverty2.with_column(\"Poverty Population\", poverty_populations)\n",
    "    return the_poverty3.plot(\"time\", \"Poverty Population\")\n"
   ]
  },
  {
   "cell_type": "markdown",
   "metadata": {
    "deletable": false,
    "editable": false
   },
   "source": [
    "Finally, draw the timelines below to see how the world is changing. You can check your work by comparing your graphs to the ones on [gapminder.org](https://goo.gl/lPujuh)."
   ]
  },
  {
   "cell_type": "code",
   "execution_count": 78,
   "metadata": {
    "deletable": false,
    "editable": false
   },
   "outputs": [
    {
     "name": "stderr",
     "output_type": "stream",
     "text": [
      "C:\\Users\\dwagn\\Anaconda3\\lib\\site-packages\\datascience\\predicates.py:261: SyntaxWarning: Do not pass an array or list to a predicate.                 If you are trying to find rows where two columns are the                 same, use table.where('c', are.equal_to, table.column('d'))                instead of table.where('c', are.equal_to(table.column('d'))).\n",
      "  SyntaxWarning)\n"
     ]
    },
    {
     "data": {
      "image/png": "[encoded data removed]",
      "text/plain": [
       "<Figure size 432x288 with 1 Axes>"
      ]
     },
     "metadata": {},
     "output_type": "display_data"
    }
   ],
   "source": [
    "poverty_timeline('India')"
   ]
  },
  {
   "cell_type": "code",
   "execution_count": 79,
   "metadata": {
    "deletable": false,
    "editable": false
   },
   "outputs": [
    {
     "name": "stderr",
     "output_type": "stream",
     "text": [
      "C:\\Users\\dwagn\\Anaconda3\\lib\\site-packages\\datascience\\predicates.py:261: SyntaxWarning: Do not pass an array or list to a predicate.                 If you are trying to find rows where two columns are the                 same, use table.where('c', are.equal_to, table.column('d'))                instead of table.where('c', are.equal_to(table.column('d'))).\n",
      "  SyntaxWarning)\n"
     ]
    },
    {
     "data": {
      "image/png": "[encoded data removed]",
      "text/plain": [
       "<Figure size 432x288 with 1 Axes>"
      ]
     },
     "metadata": {},
     "output_type": "display_data"
    }
   ],
   "source": [
    "poverty_timeline('Nigeria')"
   ]
  },
  {
   "cell_type": "code",
   "execution_count": 80,
   "metadata": {
    "deletable": false,
    "editable": false
   },
   "outputs": [
    {
     "name": "stderr",
     "output_type": "stream",
     "text": [
      "C:\\Users\\dwagn\\Anaconda3\\lib\\site-packages\\datascience\\predicates.py:261: SyntaxWarning: Do not pass an array or list to a predicate.                 If you are trying to find rows where two columns are the                 same, use table.where('c', are.equal_to, table.column('d'))                instead of table.where('c', are.equal_to(table.column('d'))).\n",
      "  SyntaxWarning)\n"
     ]
    },
    {
     "data": {
      "image/png": "[encoded data removed]",
      "text/plain": [
       "<Figure size 432x288 with 1 Axes>"
      ]
     },
     "metadata": {},
     "output_type": "display_data"
    }
   ],
   "source": [
    "poverty_timeline('China')"
   ]
  },
  {
   "cell_type": "code",
   "execution_count": 81,
   "metadata": {
    "deletable": false,
    "editable": false
   },
   "outputs": [
    {
     "name": "stderr",
     "output_type": "stream",
     "text": [
      "C:\\Users\\dwagn\\Anaconda3\\lib\\site-packages\\datascience\\predicates.py:261: SyntaxWarning: Do not pass an array or list to a predicate.                 If you are trying to find rows where two columns are the                 same, use table.where('c', are.equal_to, table.column('d'))                instead of table.where('c', are.equal_to(table.column('d'))).\n",
      "  SyntaxWarning)\n"
     ]
    },
    {
     "data": {
      "image/png": "[encoded data removed]",
      "text/plain": [
       "<Figure size 432x288 with 1 Axes>"
      ]
     },
     "metadata": {},
     "output_type": "display_data"
    }
   ],
   "source": [
    "poverty_timeline('United States')"
   ]
  },
  {
   "cell_type": "markdown",
   "metadata": {
    "deletable": false,
    "editable": false
   },
   "source": [
    "Although the number of people living in extreme poverty has been increasing in Nigeria and the United States, the massive decreases in China and India have shaped the overall trend that extreme poverty is decreasing worldwide, both in percentage and in absolute number. \n",
    "\n",
    "To learn more, watch [Hans Rosling in a 2015 film](https://www.gapminder.org/videos/dont-panic-end-poverty/) about the UN goal of eradicating extreme poverty from the world. \n",
    "\n",
    "Below, we've also added an interactive dropdown menu for you to visualize `poverty_timeline` graphs for other countries. Note that each dropdown menu selection may take a few seconds to run."
   ]
  },
  {
   "cell_type": "code",
   "execution_count": 82,
   "metadata": {
    "deletable": false,
    "editable": false
   },
   "outputs": [
    {
     "data": {
      "application/vnd.jupyter.widget-view+json": {
       "model_id": "e17b3b2e7bd441c7a654e72b159ab711",
       "version_major": 2,
       "version_minor": 0
      },
      "text/plain": [
       "interactive(children=(Dropdown(description='country', options=('Angola', 'Albania', 'Argentina', 'Armenia', 'A…"
      ]
     },
     "metadata": {},
     "output_type": "display_data"
    }
   ],
   "source": [
    "# Just run this cell\n",
    "\n",
    "all_countries = poverty_map.column('name')\n",
    "_ = widgets.interact(poverty_timeline, country=list(all_countries))"
   ]
  },
  {
   "cell_type": "markdown",
   "metadata": {
    "deletable": false,
    "editable": false
   },
   "source": [
    "**You're finished!** Congratulations on mastering data visualization and table manipulation. Time to submit."
   ]
  },
  {
   "cell_type": "code",
   "execution_count": 85,
   "metadata": {
    "deletable": false,
    "editable": false
   },
   "outputs": [
    {
     "data": {
      "application/javascript": [
       "IPython.notebook.save_checkpoint();"
      ],
      "text/plain": [
       "<IPython.core.display.Javascript object>"
      ]
     },
     "metadata": {},
     "output_type": "display_data"
    },
    {
     "data": {
      "application/javascript": [
       "IPython.notebook.save_notebook();"
      ],
      "text/plain": [
       "<IPython.core.display.Javascript object>"
      ]
     },
     "metadata": {},
     "output_type": "display_data"
    },
    {
     "name": "stdout",
     "output_type": "stream",
     "text": [
      "Saving notebook... Saved 'project1.ipynb'.\n",
      "Submit... 100% complete\n",
      "Submission successful for user: dbw2tn@virginia.edu\n",
      "URL: https://okpy.org/uva/stat_1602/fa19/project1/submissions/oVNlqX\n",
      "\n"
     ]
    }
   ],
   "source": [
    "_ = ok.submit()"
   ]
  }
 ],
 "metadata": {
  "kernelspec": {
   "display_name": "Python 3",
   "language": "python",
   "name": "python3"
  },
  "language_info": {
   "codemirror_mode": {
    "name": "ipython",
    "version": 3
   },
   "file_extension": ".py",
   "mimetype": "text/x-python",
   "name": "python",
   "nbconvert_exporter": "python",
   "pygments_lexer": "ipython3",
   "version": "3.7.3"
  }
 },
 "nbformat": 4,
 "nbformat_minor": 1
}
